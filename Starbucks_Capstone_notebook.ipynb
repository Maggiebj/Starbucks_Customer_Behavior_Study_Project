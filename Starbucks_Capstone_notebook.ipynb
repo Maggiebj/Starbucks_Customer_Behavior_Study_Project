{
 "cells": [
  {
   "cell_type": "markdown",
   "metadata": {},
   "source": [
    "# Starbucks Capstone Challenge\n",
    "\n",
    "### Introduction\n",
    "\n",
    "This data set contains simulated data that mimics customer behavior on the Starbucks rewards mobile app. Once every few days, Starbucks sends out an offer to users of the mobile app. An offer can be merely an advertisement for a drink or an actual offer such as a discount or BOGO (buy one get one free). Some users might not receive any offer during certain weeks. \n",
    "\n",
    "Not all users receive the same offer, and that is the challenge to solve with this data set.\n",
    "\n",
    "Your task is to combine transaction, demographic and offer data to determine which demographic groups respond best to which offer type. This data set is a simplified version of the real Starbucks app because the underlying simulator only has one product whereas Starbucks actually sells dozens of products.\n",
    "\n",
    "Every offer has a validity period before the offer expires. As an example, a BOGO offer might be valid for only 5 days. You'll see in the data set that informational offers have a validity period even though these ads are merely providing information about a product; for example, if an informational offer has 7 days of validity, you can assume the customer is feeling the influence of the offer for 7 days after receiving the advertisement.\n",
    "\n",
    "You'll be given transactional data showing user purchases made on the app including the timestamp of purchase and the amount of money spent on a purchase. This transactional data also has a record for each offer that a user receives as well as a record for when a user actually views the offer. There are also records for when a user completes an offer. \n",
    "\n",
    "Keep in mind as well that someone using the app might make a purchase through the app without having received an offer or seen an offer.\n",
    "\n",
    "### Example\n",
    "\n",
    "To give an example, a user could receive a discount offer buy 10 dollars get 2 off on Monday. The offer is valid for 10 days from receipt. If the customer accumulates at least 10 dollars in purchases during the validity period, the customer completes the offer.\n",
    "\n",
    "However, there are a few things to watch out for in this data set. Customers do not opt into the offers that they receive; in other words, a user can receive an offer, never actually view the offer, and still complete the offer. For example, a user might receive the \"buy 10 dollars get 2 dollars off offer\", but the user never opens the offer during the 10 day validity period. The customer spends 15 dollars during those ten days. There will be an offer completion record in the data set; however, the customer was not influenced by the offer because the customer never viewed the offer.\n",
    "\n",
    "### Cleaning\n",
    "\n",
    "This makes data cleaning especially important and tricky.\n",
    "\n",
    "You'll also want to take into account that some demographic groups will make purchases even if they don't receive an offer. From a business perspective, if a customer is going to make a 10 dollar purchase without an offer anyway, you wouldn't want to send a buy 10 dollars get 2 dollars off offer. You'll want to try to assess what a certain demographic group will buy when not receiving any offers.\n",
    "\n",
    "### Final Advice\n",
    "\n",
    "Because this is a capstone project, you are free to analyze the data any way you see fit. For example, you could build a machine learning model that predicts how much someone will spend based on demographics and offer type. Or you could build a model that predicts whether or not someone will respond to an offer. Or, you don't need to build a machine learning model at all. You could develop a set of heuristics that determine what offer you should send to each customer (i.e., 75 percent of women customers who were 35 years old responded to offer A vs 40 percent from the same demographic to offer B, so send offer A)."
   ]
  },
  {
   "cell_type": "markdown",
   "metadata": {},
   "source": [
    "# Data Sets\n",
    "\n",
    "The data is contained in three files:\n",
    "\n",
    "* portfolio.json - containing offer ids and meta data about each offer (duration, type, etc.)\n",
    "* profile.json - demographic data for each customer\n",
    "* transcript.json - records for transactions, offers received, offers viewed, and offers completed\n",
    "\n",
    "Here is the schema and explanation of each variable in the files:\n",
    "\n",
    "**portfolio.json**\n",
    "* id (string) - offer id\n",
    "* offer_type (string) - type of offer ie BOGO, discount, informational\n",
    "* difficulty (int) - minimum required spend to complete an offer\n",
    "* reward (int) - reward given for completing an offer\n",
    "* duration (int) - time for offer to be open, in days\n",
    "* channels (list of strings)\n",
    "\n",
    "**profile.json**\n",
    "* age (int) - age of the customer \n",
    "* became_member_on (int) - date when customer created an app account\n",
    "* gender (str) - gender of the customer (note some entries contain 'O' for other rather than M or F)\n",
    "* id (str) - customer id\n",
    "* income (float) - customer's income\n",
    "\n",
    "**transcript.json**\n",
    "* event (str) - record description (ie transaction, offer received, offer viewed, etc.)\n",
    "* person (str) - customer id\n",
    "* time (int) - time in hours since start of test. The data begins at time t=0\n",
    "* value - (dict of strings) - either an offer id or transaction amount depending on the record\n",
    "\n",
    "**Note:** If you are using the workspace, you will need to go to the terminal and run the command `conda update pandas` before reading in the files. This is because the version of pandas in the workspace cannot read in the transcript.json file correctly, but the newest version of pandas can. You can access the termnal from the orange icon in the top left of this notebook.  \n",
    "\n",
    "You can see how to access the terminal and how the install works using the two images below.  First you need to access the terminal:\n",
    "\n",
    "<img src=\"pic1.png\"/>\n",
    "\n",
    "Then you will want to run the above command:\n",
    "\n",
    "<img src=\"pic2.png\"/>\n",
    "\n",
    "Finally, when you enter back into the notebook (use the jupyter icon again), you should be able to run the below cell without any errors."
   ]
  },
  {
   "cell_type": "markdown",
   "metadata": {},
   "source": [
    "## The Goal of the Project\n",
    "\n",
    "In this notebook, we are about to answer the questions of which demographic users group response best to which type of offers. With the force of data science, we have develop some tools like classification prediction model and recommendation system to increase the users purchase. We approach the solutions by the following ways:\n",
    "\n",
    "1 Found the demographic users difference in 4 groups and understood how demographic features associated with customer behaviors:\n",
    "\n",
    "  Group1: Users completed the offer without viewed.\n",
    "\n",
    "  Group2: Users viewed the offer and completed it.\n",
    "\n",
    "  Group3: Users viewed the offer but not completed it.\n",
    "\n",
    "  Group4: Users did not view nor complete the offers.\n",
    "\n",
    "2 Built a classification model to predict whether a user who receive the offer would complete it.\n",
    "\n",
    "3 Built a user-user based collaborative filtering recommendation system for new and old users."
   ]
  },
  {
   "cell_type": "markdown",
   "metadata": {},
   "source": [
    "## Table of Contents\n",
    "\n",
    "I. [Exploratory Data Analysis On User Groups](#Exploratory)<br>\n",
    "II. [Classification to Predict Completion](#Classification)<br>\n",
    "III. [User-User Based Collaborative Filtering Recommendation](#Recommendation)<br>"
   ]
  },
  {
   "cell_type": "code",
   "execution_count": 1,
   "metadata": {},
   "outputs": [],
   "source": [
    "import pandas as pd\n",
    "import numpy as np\n",
    "import math\n",
    "import json\n",
    "% matplotlib inline\n",
    "\n",
    "# read in the json files\n",
    "portfolio = pd.read_json('data/portfolio.json', orient='records', lines=True)\n",
    "profile = pd.read_json('data/profile.json', orient='records', lines=True)\n",
    "transcript = pd.read_json('data/transcript.json', orient='records', lines=True)"
   ]
  },
  {
   "cell_type": "code",
   "execution_count": 2,
   "metadata": {},
   "outputs": [
    {
     "data": {
      "text/html": [
       "<div>\n",
       "<style scoped>\n",
       "    .dataframe tbody tr th:only-of-type {\n",
       "        vertical-align: middle;\n",
       "    }\n",
       "\n",
       "    .dataframe tbody tr th {\n",
       "        vertical-align: top;\n",
       "    }\n",
       "\n",
       "    .dataframe thead th {\n",
       "        text-align: right;\n",
       "    }\n",
       "</style>\n",
       "<table border=\"1\" class=\"dataframe\">\n",
       "  <thead>\n",
       "    <tr style=\"text-align: right;\">\n",
       "      <th></th>\n",
       "      <th>channels</th>\n",
       "      <th>difficulty</th>\n",
       "      <th>duration</th>\n",
       "      <th>id</th>\n",
       "      <th>offer_type</th>\n",
       "      <th>reward</th>\n",
       "    </tr>\n",
       "  </thead>\n",
       "  <tbody>\n",
       "    <tr>\n",
       "      <th>0</th>\n",
       "      <td>[email, mobile, social]</td>\n",
       "      <td>10</td>\n",
       "      <td>7</td>\n",
       "      <td>ae264e3637204a6fb9bb56bc8210ddfd</td>\n",
       "      <td>bogo</td>\n",
       "      <td>10</td>\n",
       "    </tr>\n",
       "    <tr>\n",
       "      <th>1</th>\n",
       "      <td>[web, email, mobile, social]</td>\n",
       "      <td>10</td>\n",
       "      <td>5</td>\n",
       "      <td>4d5c57ea9a6940dd891ad53e9dbe8da0</td>\n",
       "      <td>bogo</td>\n",
       "      <td>10</td>\n",
       "    </tr>\n",
       "    <tr>\n",
       "      <th>2</th>\n",
       "      <td>[web, email, mobile]</td>\n",
       "      <td>0</td>\n",
       "      <td>4</td>\n",
       "      <td>3f207df678b143eea3cee63160fa8bed</td>\n",
       "      <td>informational</td>\n",
       "      <td>0</td>\n",
       "    </tr>\n",
       "    <tr>\n",
       "      <th>3</th>\n",
       "      <td>[web, email, mobile]</td>\n",
       "      <td>5</td>\n",
       "      <td>7</td>\n",
       "      <td>9b98b8c7a33c4b65b9aebfe6a799e6d9</td>\n",
       "      <td>bogo</td>\n",
       "      <td>5</td>\n",
       "    </tr>\n",
       "    <tr>\n",
       "      <th>4</th>\n",
       "      <td>[web, email]</td>\n",
       "      <td>20</td>\n",
       "      <td>10</td>\n",
       "      <td>0b1e1539f2cc45b7b9fa7c272da2e1d7</td>\n",
       "      <td>discount</td>\n",
       "      <td>5</td>\n",
       "    </tr>\n",
       "  </tbody>\n",
       "</table>\n",
       "</div>"
      ],
      "text/plain": [
       "                       channels  difficulty  duration  \\\n",
       "0       [email, mobile, social]          10         7   \n",
       "1  [web, email, mobile, social]          10         5   \n",
       "2          [web, email, mobile]           0         4   \n",
       "3          [web, email, mobile]           5         7   \n",
       "4                  [web, email]          20        10   \n",
       "\n",
       "                                 id     offer_type  reward  \n",
       "0  ae264e3637204a6fb9bb56bc8210ddfd           bogo      10  \n",
       "1  4d5c57ea9a6940dd891ad53e9dbe8da0           bogo      10  \n",
       "2  3f207df678b143eea3cee63160fa8bed  informational       0  \n",
       "3  9b98b8c7a33c4b65b9aebfe6a799e6d9           bogo       5  \n",
       "4  0b1e1539f2cc45b7b9fa7c272da2e1d7       discount       5  "
      ]
     },
     "execution_count": 2,
     "metadata": {},
     "output_type": "execute_result"
    }
   ],
   "source": [
    "portfolio.head()"
   ]
  },
  {
   "cell_type": "code",
   "execution_count": 3,
   "metadata": {},
   "outputs": [
    {
     "data": {
      "text/plain": [
       "(10, 6)"
      ]
     },
     "execution_count": 3,
     "metadata": {},
     "output_type": "execute_result"
    }
   ],
   "source": [
    "portfolio.shape"
   ]
  },
  {
   "cell_type": "code",
   "execution_count": 4,
   "metadata": {},
   "outputs": [
    {
     "name": "stdout",
     "output_type": "stream",
     "text": [
      "There are 10 offers in the portfolio with the columns Index(['channels', 'difficulty', 'duration', 'id', 'offer_type', 'reward'], dtype='object')\n"
     ]
    }
   ],
   "source": [
    "print ('There are {} offers in the portfolio with the columns {}'.format(portfolio.id.nunique(),portfolio.columns))"
   ]
  },
  {
   "cell_type": "code",
   "execution_count": 5,
   "metadata": {},
   "outputs": [
    {
     "data": {
      "text/html": [
       "<div>\n",
       "<style scoped>\n",
       "    .dataframe tbody tr th:only-of-type {\n",
       "        vertical-align: middle;\n",
       "    }\n",
       "\n",
       "    .dataframe tbody tr th {\n",
       "        vertical-align: top;\n",
       "    }\n",
       "\n",
       "    .dataframe thead th {\n",
       "        text-align: right;\n",
       "    }\n",
       "</style>\n",
       "<table border=\"1\" class=\"dataframe\">\n",
       "  <thead>\n",
       "    <tr style=\"text-align: right;\">\n",
       "      <th></th>\n",
       "      <th>age</th>\n",
       "      <th>became_member_on</th>\n",
       "      <th>gender</th>\n",
       "      <th>id</th>\n",
       "      <th>income</th>\n",
       "    </tr>\n",
       "  </thead>\n",
       "  <tbody>\n",
       "    <tr>\n",
       "      <th>0</th>\n",
       "      <td>118</td>\n",
       "      <td>20170212</td>\n",
       "      <td>None</td>\n",
       "      <td>68be06ca386d4c31939f3a4f0e3dd783</td>\n",
       "      <td>NaN</td>\n",
       "    </tr>\n",
       "    <tr>\n",
       "      <th>1</th>\n",
       "      <td>55</td>\n",
       "      <td>20170715</td>\n",
       "      <td>F</td>\n",
       "      <td>0610b486422d4921ae7d2bf64640c50b</td>\n",
       "      <td>112000.0</td>\n",
       "    </tr>\n",
       "    <tr>\n",
       "      <th>2</th>\n",
       "      <td>118</td>\n",
       "      <td>20180712</td>\n",
       "      <td>None</td>\n",
       "      <td>38fe809add3b4fcf9315a9694bb96ff5</td>\n",
       "      <td>NaN</td>\n",
       "    </tr>\n",
       "    <tr>\n",
       "      <th>3</th>\n",
       "      <td>75</td>\n",
       "      <td>20170509</td>\n",
       "      <td>F</td>\n",
       "      <td>78afa995795e4d85b5d9ceeca43f5fef</td>\n",
       "      <td>100000.0</td>\n",
       "    </tr>\n",
       "    <tr>\n",
       "      <th>4</th>\n",
       "      <td>118</td>\n",
       "      <td>20170804</td>\n",
       "      <td>None</td>\n",
       "      <td>a03223e636434f42ac4c3df47e8bac43</td>\n",
       "      <td>NaN</td>\n",
       "    </tr>\n",
       "  </tbody>\n",
       "</table>\n",
       "</div>"
      ],
      "text/plain": [
       "   age  became_member_on gender                                id    income\n",
       "0  118          20170212   None  68be06ca386d4c31939f3a4f0e3dd783       NaN\n",
       "1   55          20170715      F  0610b486422d4921ae7d2bf64640c50b  112000.0\n",
       "2  118          20180712   None  38fe809add3b4fcf9315a9694bb96ff5       NaN\n",
       "3   75          20170509      F  78afa995795e4d85b5d9ceeca43f5fef  100000.0\n",
       "4  118          20170804   None  a03223e636434f42ac4c3df47e8bac43       NaN"
      ]
     },
     "execution_count": 5,
     "metadata": {},
     "output_type": "execute_result"
    }
   ],
   "source": [
    "profile.head()"
   ]
  },
  {
   "cell_type": "code",
   "execution_count": 6,
   "metadata": {},
   "outputs": [
    {
     "data": {
      "text/plain": [
       "(17000, 5)"
      ]
     },
     "execution_count": 6,
     "metadata": {},
     "output_type": "execute_result"
    }
   ],
   "source": [
    "profile.shape"
   ]
  },
  {
   "cell_type": "code",
   "execution_count": 7,
   "metadata": {},
   "outputs": [
    {
     "name": "stdout",
     "output_type": "stream",
     "text": [
      "There are 17000 users in the profile with the columns Index(['age', 'became_member_on', 'gender', 'id', 'income'], dtype='object')\n"
     ]
    }
   ],
   "source": [
    "print ('There are {} users in the profile with the columns {}'.format(profile.id.nunique(),profile.columns))"
   ]
  },
  {
   "cell_type": "code",
   "execution_count": 8,
   "metadata": {},
   "outputs": [
    {
     "data": {
      "text/html": [
       "<div>\n",
       "<style scoped>\n",
       "    .dataframe tbody tr th:only-of-type {\n",
       "        vertical-align: middle;\n",
       "    }\n",
       "\n",
       "    .dataframe tbody tr th {\n",
       "        vertical-align: top;\n",
       "    }\n",
       "\n",
       "    .dataframe thead th {\n",
       "        text-align: right;\n",
       "    }\n",
       "</style>\n",
       "<table border=\"1\" class=\"dataframe\">\n",
       "  <thead>\n",
       "    <tr style=\"text-align: right;\">\n",
       "      <th></th>\n",
       "      <th>event</th>\n",
       "      <th>person</th>\n",
       "      <th>time</th>\n",
       "      <th>value</th>\n",
       "    </tr>\n",
       "  </thead>\n",
       "  <tbody>\n",
       "    <tr>\n",
       "      <th>0</th>\n",
       "      <td>offer received</td>\n",
       "      <td>78afa995795e4d85b5d9ceeca43f5fef</td>\n",
       "      <td>0</td>\n",
       "      <td>{'offer id': '9b98b8c7a33c4b65b9aebfe6a799e6d9'}</td>\n",
       "    </tr>\n",
       "    <tr>\n",
       "      <th>1</th>\n",
       "      <td>offer received</td>\n",
       "      <td>a03223e636434f42ac4c3df47e8bac43</td>\n",
       "      <td>0</td>\n",
       "      <td>{'offer id': '0b1e1539f2cc45b7b9fa7c272da2e1d7'}</td>\n",
       "    </tr>\n",
       "    <tr>\n",
       "      <th>2</th>\n",
       "      <td>offer received</td>\n",
       "      <td>e2127556f4f64592b11af22de27a7932</td>\n",
       "      <td>0</td>\n",
       "      <td>{'offer id': '2906b810c7d4411798c6938adc9daaa5'}</td>\n",
       "    </tr>\n",
       "    <tr>\n",
       "      <th>3</th>\n",
       "      <td>offer received</td>\n",
       "      <td>8ec6ce2a7e7949b1bf142def7d0e0586</td>\n",
       "      <td>0</td>\n",
       "      <td>{'offer id': 'fafdcd668e3743c1bb461111dcafc2a4'}</td>\n",
       "    </tr>\n",
       "    <tr>\n",
       "      <th>4</th>\n",
       "      <td>offer received</td>\n",
       "      <td>68617ca6246f4fbc85e91a2a49552598</td>\n",
       "      <td>0</td>\n",
       "      <td>{'offer id': '4d5c57ea9a6940dd891ad53e9dbe8da0'}</td>\n",
       "    </tr>\n",
       "  </tbody>\n",
       "</table>\n",
       "</div>"
      ],
      "text/plain": [
       "            event                            person  time  \\\n",
       "0  offer received  78afa995795e4d85b5d9ceeca43f5fef     0   \n",
       "1  offer received  a03223e636434f42ac4c3df47e8bac43     0   \n",
       "2  offer received  e2127556f4f64592b11af22de27a7932     0   \n",
       "3  offer received  8ec6ce2a7e7949b1bf142def7d0e0586     0   \n",
       "4  offer received  68617ca6246f4fbc85e91a2a49552598     0   \n",
       "\n",
       "                                              value  \n",
       "0  {'offer id': '9b98b8c7a33c4b65b9aebfe6a799e6d9'}  \n",
       "1  {'offer id': '0b1e1539f2cc45b7b9fa7c272da2e1d7'}  \n",
       "2  {'offer id': '2906b810c7d4411798c6938adc9daaa5'}  \n",
       "3  {'offer id': 'fafdcd668e3743c1bb461111dcafc2a4'}  \n",
       "4  {'offer id': '4d5c57ea9a6940dd891ad53e9dbe8da0'}  "
      ]
     },
     "execution_count": 8,
     "metadata": {},
     "output_type": "execute_result"
    }
   ],
   "source": [
    "transcript.head()"
   ]
  },
  {
   "cell_type": "code",
   "execution_count": 9,
   "metadata": {},
   "outputs": [
    {
     "data": {
      "text/plain": [
       "(306534, 4)"
      ]
     },
     "execution_count": 9,
     "metadata": {},
     "output_type": "execute_result"
    }
   ],
   "source": [
    "transcript.shape"
   ]
  },
  {
   "cell_type": "code",
   "execution_count": 10,
   "metadata": {},
   "outputs": [
    {
     "name": "stdout",
     "output_type": "stream",
     "text": [
      "There are 138953 rows of transaction event\n",
      "There are 76277 rows of offer received event\n",
      "There are 57725 rows of offer viewed event\n",
      "There are 33579 rows of offer completed event\n"
     ]
    }
   ],
   "source": [
    "print ('There are {} rows of transaction event'.format(transcript.loc[transcript.event=='transaction'].shape[0]))\n",
    "print ('There are {} rows of offer received event'.format(transcript.loc[transcript.event=='offer received'].shape[0]))\n",
    "print ('There are {} rows of offer viewed event'.format(transcript.loc[transcript.event=='offer viewed'].shape[0]))\n",
    "print ('There are {} rows of offer completed event'.format(transcript.loc[transcript.event=='offer completed'].shape[0]))"
   ]
  },
  {
   "cell_type": "markdown",
   "metadata": {},
   "source": [
    "### <a class=\"anchor\" id=\"Exploratory\">Part I : Exploratory Data Analysis On User Groups</a>\n",
    "\n",
    "In this section, we explored the difference of users demographic features in 4 exclusive groups based on users behaviors:\n",
    "\n",
    "Group1: Users completed the offer without viewed.\n",
    "\n",
    "Group2: Users viewed the offer and completed it.\n",
    "\n",
    "Group3: Users viewed the offer but not completed it.\n",
    "\n",
    "Group4: Users did not view nor complete the offers.\n"
   ]
  },
  {
   "cell_type": "markdown",
   "metadata": {},
   "source": [
    "#### Data Preprocessing"
   ]
  },
  {
   "cell_type": "code",
   "execution_count": 11,
   "metadata": {},
   "outputs": [],
   "source": [
    "transcript_trans = transcript.loc[transcript.event=='transaction'].copy()\n",
    "transcript_offerrec = transcript.loc[transcript.event=='offer received'].copy()\n",
    "transcript_offervie = transcript.loc[transcript.event=='offer viewed'].copy()\n",
    "transcript_offercom =  transcript.loc[transcript.event=='offer completed'].copy()"
   ]
  },
  {
   "cell_type": "code",
   "execution_count": 12,
   "metadata": {},
   "outputs": [],
   "source": [
    "transcript_trans.reset_index(inplace=True)\n",
    "transcript_offerrec.reset_index(inplace=True)\n",
    "transcript_offervie.reset_index(inplace=True)\n",
    "transcript_offercom.reset_index(inplace=True)"
   ]
  },
  {
   "cell_type": "code",
   "execution_count": 13,
   "metadata": {},
   "outputs": [],
   "source": [
    "transcript_trans['amount'] = transcript_trans.value.apply(lambda x:x['amount'])\n",
    "transcript_offerrec['offer_id'] = transcript_offerrec.value.apply(lambda x:x['offer id'])\n",
    "transcript_offervie['offer_id'] = transcript_offervie.value.apply(lambda x:x['offer id'])\n",
    "transcript_offercom['offer_id'] = transcript_offercom.value.apply(lambda x:x['offer_id'])\n",
    "transcript_offercom['reward'] = transcript_offercom.value.apply(lambda x:x['reward'])"
   ]
  },
  {
   "cell_type": "code",
   "execution_count": 14,
   "metadata": {},
   "outputs": [],
   "source": [
    "transcript_trans.drop(['value','event','index'],axis=1,inplace=True)\n",
    "transcript_offerrec.drop(['value','event','index'],axis=1,inplace=True)\n",
    "transcript_offervie.drop(['value','event','index'],axis=1,inplace=True)\n",
    "transcript_offercom.drop(['value','event','index'],axis=1,inplace=True)"
   ]
  },
  {
   "cell_type": "code",
   "execution_count": 15,
   "metadata": {},
   "outputs": [],
   "source": [
    "transcript_trans.rename(columns={'person':'person_trans','time':'time_trans'},inplace=True)\n",
    "transcript_offerrec.rename(columns={'person':'person_rec','time':'time_rec','offer_id':'offer_id_rec'},inplace=True)\n",
    "transcript_offervie.rename(columns={'person':'person_vie','time':'time_vie','offer_id':'offer_id_vie'},inplace=True)\n",
    "transcript_offercom.rename(columns={'person':'person_com','time':'time_com','offer_id':'offer_id_com','reward':'reward_com'},inplace=True)"
   ]
  },
  {
   "cell_type": "code",
   "execution_count": 16,
   "metadata": {},
   "outputs": [
    {
     "data": {
      "text/html": [
       "<div>\n",
       "<style scoped>\n",
       "    .dataframe tbody tr th:only-of-type {\n",
       "        vertical-align: middle;\n",
       "    }\n",
       "\n",
       "    .dataframe tbody tr th {\n",
       "        vertical-align: top;\n",
       "    }\n",
       "\n",
       "    .dataframe thead th {\n",
       "        text-align: right;\n",
       "    }\n",
       "</style>\n",
       "<table border=\"1\" class=\"dataframe\">\n",
       "  <thead>\n",
       "    <tr style=\"text-align: right;\">\n",
       "      <th></th>\n",
       "      <th>person_trans</th>\n",
       "      <th>time_trans</th>\n",
       "      <th>amount</th>\n",
       "    </tr>\n",
       "  </thead>\n",
       "  <tbody>\n",
       "    <tr>\n",
       "      <th>0</th>\n",
       "      <td>02c083884c7d45b39cc68e1314fec56c</td>\n",
       "      <td>0</td>\n",
       "      <td>0.83</td>\n",
       "    </tr>\n",
       "    <tr>\n",
       "      <th>1</th>\n",
       "      <td>9fa9ae8f57894cc9a3b8a9bbe0fc1b2f</td>\n",
       "      <td>0</td>\n",
       "      <td>34.56</td>\n",
       "    </tr>\n",
       "    <tr>\n",
       "      <th>2</th>\n",
       "      <td>54890f68699049c2a04d415abc25e717</td>\n",
       "      <td>0</td>\n",
       "      <td>13.23</td>\n",
       "    </tr>\n",
       "    <tr>\n",
       "      <th>3</th>\n",
       "      <td>b2f1cd155b864803ad8334cdf13c4bd2</td>\n",
       "      <td>0</td>\n",
       "      <td>19.51</td>\n",
       "    </tr>\n",
       "    <tr>\n",
       "      <th>4</th>\n",
       "      <td>fe97aa22dd3e48c8b143116a8403dd52</td>\n",
       "      <td>0</td>\n",
       "      <td>18.97</td>\n",
       "    </tr>\n",
       "  </tbody>\n",
       "</table>\n",
       "</div>"
      ],
      "text/plain": [
       "                       person_trans  time_trans  amount\n",
       "0  02c083884c7d45b39cc68e1314fec56c           0    0.83\n",
       "1  9fa9ae8f57894cc9a3b8a9bbe0fc1b2f           0   34.56\n",
       "2  54890f68699049c2a04d415abc25e717           0   13.23\n",
       "3  b2f1cd155b864803ad8334cdf13c4bd2           0   19.51\n",
       "4  fe97aa22dd3e48c8b143116a8403dd52           0   18.97"
      ]
     },
     "execution_count": 16,
     "metadata": {},
     "output_type": "execute_result"
    }
   ],
   "source": [
    "transcript_trans.head()"
   ]
  },
  {
   "cell_type": "code",
   "execution_count": 17,
   "metadata": {},
   "outputs": [
    {
     "data": {
      "text/html": [
       "<div>\n",
       "<style scoped>\n",
       "    .dataframe tbody tr th:only-of-type {\n",
       "        vertical-align: middle;\n",
       "    }\n",
       "\n",
       "    .dataframe tbody tr th {\n",
       "        vertical-align: top;\n",
       "    }\n",
       "\n",
       "    .dataframe thead th {\n",
       "        text-align: right;\n",
       "    }\n",
       "</style>\n",
       "<table border=\"1\" class=\"dataframe\">\n",
       "  <thead>\n",
       "    <tr style=\"text-align: right;\">\n",
       "      <th></th>\n",
       "      <th>person_rec</th>\n",
       "      <th>time_rec</th>\n",
       "      <th>offer_id_rec</th>\n",
       "    </tr>\n",
       "  </thead>\n",
       "  <tbody>\n",
       "    <tr>\n",
       "      <th>0</th>\n",
       "      <td>78afa995795e4d85b5d9ceeca43f5fef</td>\n",
       "      <td>0</td>\n",
       "      <td>9b98b8c7a33c4b65b9aebfe6a799e6d9</td>\n",
       "    </tr>\n",
       "    <tr>\n",
       "      <th>1</th>\n",
       "      <td>a03223e636434f42ac4c3df47e8bac43</td>\n",
       "      <td>0</td>\n",
       "      <td>0b1e1539f2cc45b7b9fa7c272da2e1d7</td>\n",
       "    </tr>\n",
       "    <tr>\n",
       "      <th>2</th>\n",
       "      <td>e2127556f4f64592b11af22de27a7932</td>\n",
       "      <td>0</td>\n",
       "      <td>2906b810c7d4411798c6938adc9daaa5</td>\n",
       "    </tr>\n",
       "    <tr>\n",
       "      <th>3</th>\n",
       "      <td>8ec6ce2a7e7949b1bf142def7d0e0586</td>\n",
       "      <td>0</td>\n",
       "      <td>fafdcd668e3743c1bb461111dcafc2a4</td>\n",
       "    </tr>\n",
       "    <tr>\n",
       "      <th>4</th>\n",
       "      <td>68617ca6246f4fbc85e91a2a49552598</td>\n",
       "      <td>0</td>\n",
       "      <td>4d5c57ea9a6940dd891ad53e9dbe8da0</td>\n",
       "    </tr>\n",
       "  </tbody>\n",
       "</table>\n",
       "</div>"
      ],
      "text/plain": [
       "                         person_rec  time_rec  \\\n",
       "0  78afa995795e4d85b5d9ceeca43f5fef         0   \n",
       "1  a03223e636434f42ac4c3df47e8bac43         0   \n",
       "2  e2127556f4f64592b11af22de27a7932         0   \n",
       "3  8ec6ce2a7e7949b1bf142def7d0e0586         0   \n",
       "4  68617ca6246f4fbc85e91a2a49552598         0   \n",
       "\n",
       "                       offer_id_rec  \n",
       "0  9b98b8c7a33c4b65b9aebfe6a799e6d9  \n",
       "1  0b1e1539f2cc45b7b9fa7c272da2e1d7  \n",
       "2  2906b810c7d4411798c6938adc9daaa5  \n",
       "3  fafdcd668e3743c1bb461111dcafc2a4  \n",
       "4  4d5c57ea9a6940dd891ad53e9dbe8da0  "
      ]
     },
     "execution_count": 17,
     "metadata": {},
     "output_type": "execute_result"
    }
   ],
   "source": [
    "transcript_offerrec.head()"
   ]
  },
  {
   "cell_type": "code",
   "execution_count": 18,
   "metadata": {},
   "outputs": [
    {
     "data": {
      "text/html": [
       "<div>\n",
       "<style scoped>\n",
       "    .dataframe tbody tr th:only-of-type {\n",
       "        vertical-align: middle;\n",
       "    }\n",
       "\n",
       "    .dataframe tbody tr th {\n",
       "        vertical-align: top;\n",
       "    }\n",
       "\n",
       "    .dataframe thead th {\n",
       "        text-align: right;\n",
       "    }\n",
       "</style>\n",
       "<table border=\"1\" class=\"dataframe\">\n",
       "  <thead>\n",
       "    <tr style=\"text-align: right;\">\n",
       "      <th></th>\n",
       "      <th>person_vie</th>\n",
       "      <th>time_vie</th>\n",
       "      <th>offer_id_vie</th>\n",
       "    </tr>\n",
       "  </thead>\n",
       "  <tbody>\n",
       "    <tr>\n",
       "      <th>0</th>\n",
       "      <td>389bc3fa690240e798340f5a15918d5c</td>\n",
       "      <td>0</td>\n",
       "      <td>f19421c1d4aa40978ebb69ca19b0e20d</td>\n",
       "    </tr>\n",
       "    <tr>\n",
       "      <th>1</th>\n",
       "      <td>d1ede868e29245ea91818a903fec04c6</td>\n",
       "      <td>0</td>\n",
       "      <td>5a8bc65990b245e5a138643cd4eb9837</td>\n",
       "    </tr>\n",
       "    <tr>\n",
       "      <th>2</th>\n",
       "      <td>102e9454054946fda62242d2e176fdce</td>\n",
       "      <td>0</td>\n",
       "      <td>4d5c57ea9a6940dd891ad53e9dbe8da0</td>\n",
       "    </tr>\n",
       "    <tr>\n",
       "      <th>3</th>\n",
       "      <td>02c083884c7d45b39cc68e1314fec56c</td>\n",
       "      <td>0</td>\n",
       "      <td>ae264e3637204a6fb9bb56bc8210ddfd</td>\n",
       "    </tr>\n",
       "    <tr>\n",
       "      <th>4</th>\n",
       "      <td>be8a5d1981a2458d90b255ddc7e0d174</td>\n",
       "      <td>0</td>\n",
       "      <td>5a8bc65990b245e5a138643cd4eb9837</td>\n",
       "    </tr>\n",
       "  </tbody>\n",
       "</table>\n",
       "</div>"
      ],
      "text/plain": [
       "                         person_vie  time_vie  \\\n",
       "0  389bc3fa690240e798340f5a15918d5c         0   \n",
       "1  d1ede868e29245ea91818a903fec04c6         0   \n",
       "2  102e9454054946fda62242d2e176fdce         0   \n",
       "3  02c083884c7d45b39cc68e1314fec56c         0   \n",
       "4  be8a5d1981a2458d90b255ddc7e0d174         0   \n",
       "\n",
       "                       offer_id_vie  \n",
       "0  f19421c1d4aa40978ebb69ca19b0e20d  \n",
       "1  5a8bc65990b245e5a138643cd4eb9837  \n",
       "2  4d5c57ea9a6940dd891ad53e9dbe8da0  \n",
       "3  ae264e3637204a6fb9bb56bc8210ddfd  \n",
       "4  5a8bc65990b245e5a138643cd4eb9837  "
      ]
     },
     "execution_count": 18,
     "metadata": {},
     "output_type": "execute_result"
    }
   ],
   "source": [
    "transcript_offervie.head()"
   ]
  },
  {
   "cell_type": "code",
   "execution_count": 19,
   "metadata": {},
   "outputs": [
    {
     "data": {
      "text/html": [
       "<div>\n",
       "<style scoped>\n",
       "    .dataframe tbody tr th:only-of-type {\n",
       "        vertical-align: middle;\n",
       "    }\n",
       "\n",
       "    .dataframe tbody tr th {\n",
       "        vertical-align: top;\n",
       "    }\n",
       "\n",
       "    .dataframe thead th {\n",
       "        text-align: right;\n",
       "    }\n",
       "</style>\n",
       "<table border=\"1\" class=\"dataframe\">\n",
       "  <thead>\n",
       "    <tr style=\"text-align: right;\">\n",
       "      <th></th>\n",
       "      <th>person_com</th>\n",
       "      <th>time_com</th>\n",
       "      <th>offer_id_com</th>\n",
       "      <th>reward_com</th>\n",
       "    </tr>\n",
       "  </thead>\n",
       "  <tbody>\n",
       "    <tr>\n",
       "      <th>0</th>\n",
       "      <td>9fa9ae8f57894cc9a3b8a9bbe0fc1b2f</td>\n",
       "      <td>0</td>\n",
       "      <td>2906b810c7d4411798c6938adc9daaa5</td>\n",
       "      <td>2</td>\n",
       "    </tr>\n",
       "    <tr>\n",
       "      <th>1</th>\n",
       "      <td>fe97aa22dd3e48c8b143116a8403dd52</td>\n",
       "      <td>0</td>\n",
       "      <td>fafdcd668e3743c1bb461111dcafc2a4</td>\n",
       "      <td>2</td>\n",
       "    </tr>\n",
       "    <tr>\n",
       "      <th>2</th>\n",
       "      <td>629fc02d56414d91bca360decdfa9288</td>\n",
       "      <td>0</td>\n",
       "      <td>9b98b8c7a33c4b65b9aebfe6a799e6d9</td>\n",
       "      <td>5</td>\n",
       "    </tr>\n",
       "    <tr>\n",
       "      <th>3</th>\n",
       "      <td>676506bad68e4161b9bbaffeb039626b</td>\n",
       "      <td>0</td>\n",
       "      <td>ae264e3637204a6fb9bb56bc8210ddfd</td>\n",
       "      <td>10</td>\n",
       "    </tr>\n",
       "    <tr>\n",
       "      <th>4</th>\n",
       "      <td>8f7dd3b2afe14c078eb4f6e6fe4ba97d</td>\n",
       "      <td>0</td>\n",
       "      <td>4d5c57ea9a6940dd891ad53e9dbe8da0</td>\n",
       "      <td>10</td>\n",
       "    </tr>\n",
       "  </tbody>\n",
       "</table>\n",
       "</div>"
      ],
      "text/plain": [
       "                         person_com  time_com  \\\n",
       "0  9fa9ae8f57894cc9a3b8a9bbe0fc1b2f         0   \n",
       "1  fe97aa22dd3e48c8b143116a8403dd52         0   \n",
       "2  629fc02d56414d91bca360decdfa9288         0   \n",
       "3  676506bad68e4161b9bbaffeb039626b         0   \n",
       "4  8f7dd3b2afe14c078eb4f6e6fe4ba97d         0   \n",
       "\n",
       "                       offer_id_com  reward_com  \n",
       "0  2906b810c7d4411798c6938adc9daaa5           2  \n",
       "1  fafdcd668e3743c1bb461111dcafc2a4           2  \n",
       "2  9b98b8c7a33c4b65b9aebfe6a799e6d9           5  \n",
       "3  ae264e3637204a6fb9bb56bc8210ddfd          10  \n",
       "4  4d5c57ea9a6940dd891ad53e9dbe8da0          10  "
      ]
     },
     "execution_count": 19,
     "metadata": {},
     "output_type": "execute_result"
    }
   ],
   "source": [
    "transcript_offercom.head()"
   ]
  },
  {
   "cell_type": "markdown",
   "metadata": {},
   "source": [
    "Looked into the test, we do some exploration of the dataset."
   ]
  },
  {
   "cell_type": "code",
   "execution_count": 20,
   "metadata": {},
   "outputs": [
    {
     "data": {
      "text/plain": [
       "408    12778\n",
       "576    12765\n",
       "336    12711\n",
       "504    12704\n",
       "168    12669\n",
       "0      12650\n",
       "Name: time_rec, dtype: int64"
      ]
     },
     "execution_count": 20,
     "metadata": {},
     "output_type": "execute_result"
    }
   ],
   "source": [
    "#In the test ,we sent offers in 6 times\n",
    "transcript_offerrec.time_rec.value_counts()"
   ]
  },
  {
   "cell_type": "code",
   "execution_count": 21,
   "metadata": {},
   "outputs": [
    {
     "name": "stdout",
     "output_type": "stream",
     "text": [
      "The max time of offerview is 714 hours, and the max time of offercomplete is 714 hours\n"
     ]
    }
   ],
   "source": [
    "print ('The max time of offerview is {} hours, and the max time of offercomplete is {} hours'.format(transcript_offervie.time_vie.max(),transcript_offercom.time_com.max()))"
   ]
  },
  {
   "cell_type": "code",
   "execution_count": 22,
   "metadata": {},
   "outputs": [
    {
     "data": {
      "text/plain": [
       "array([10,  3,  5,  7,  4], dtype=int64)"
      ]
     },
     "execution_count": 22,
     "metadata": {},
     "output_type": "execute_result"
    }
   ],
   "source": [
    "#The offer durations in the final receive time (576hours)\n",
    "transcript_offerrec.loc[transcript_offerrec.time_rec==576].merge(portfolio,how='inner',left_on=['offer_id_rec'],right_on=['id']).duration.unique()"
   ]
  },
  {
   "cell_type": "code",
   "execution_count": 23,
   "metadata": {},
   "outputs": [
    {
     "name": "stdout",
     "output_type": "stream",
     "text": [
      "The max duration of offer is 10 days,which is 240 hours\n",
      "The lastest offers send time is 576\n",
      "We see probably some lastest offers did not reach it end time when the test is end\n"
     ]
    }
   ],
   "source": [
    "print ('The max duration of offer is {} days,which is {} hours'.format(portfolio.duration.max(),portfolio.duration.max()*24))\n",
    "print ('The lastest offers send time is {}'.format(transcript_offerrec.time_rec.max()))\n",
    "print ('We see probably some lastest offers did not reach it end time when the test is end')"
   ]
  },
  {
   "cell_type": "code",
   "execution_count": 24,
   "metadata": {},
   "outputs": [
    {
     "data": {
      "text/plain": [
       "(95321, 6)"
      ]
     },
     "execution_count": 24,
     "metadata": {},
     "output_type": "execute_result"
    }
   ],
   "source": [
    "#Merge the offerreceive dataset to offerview dataset\n",
    "offer_rec_vie = transcript_offerrec.merge(transcript_offervie,how='left',left_on=['person_rec','offer_id_rec'],right_on=['person_vie','offer_id_vie'])\n",
    "offer_rec_vie.shape"
   ]
  },
  {
   "cell_type": "code",
   "execution_count": null,
   "metadata": {},
   "outputs": [],
   "source": [
    "#transcript_offerrec.head()"
   ]
  },
  {
   "cell_type": "code",
   "execution_count": null,
   "metadata": {},
   "outputs": [],
   "source": [
    "#transcript_offerrec.loc[transcript_offerrec.person_rec=='a03223e636434f42ac4c3df47e8bac43']"
   ]
  },
  {
   "cell_type": "code",
   "execution_count": null,
   "metadata": {},
   "outputs": [],
   "source": [
    "#transcript_offerrec.loc[(transcript_offerrec.person_rec=='a03223e636434f42ac4c3df47e8bac43') & (transcript_offerrec.offer_id_rec=='0b1e1539f2cc45b7b9fa7c272da2e1d7')]"
   ]
  },
  {
   "cell_type": "code",
   "execution_count": null,
   "metadata": {},
   "outputs": [],
   "source": [
    "#transcript_offervie.loc[(transcript_offervie.person_vie=='a03223e636434f42ac4c3df47e8bac43') & (transcript_offervie.offer_id_vie=='0b1e1539f2cc45b7b9fa7c272da2e1d7')]"
   ]
  },
  {
   "cell_type": "code",
   "execution_count": null,
   "metadata": {},
   "outputs": [],
   "source": [
    "#offer_rec_vie.loc[(offer_rec_vie.person_rec=='a03223e636434f42ac4c3df47e8bac43') &(offer_rec_vie.offer_id_rec=='0b1e1539f2cc45b7b9fa7c272da2e1d7')]"
   ]
  },
  {
   "cell_type": "code",
   "execution_count": 25,
   "metadata": {},
   "outputs": [
    {
     "data": {
      "text/plain": [
       "(84396, 6)"
      ]
     },
     "execution_count": 25,
     "metadata": {},
     "output_type": "execute_result"
    }
   ],
   "source": [
    "#Invalid rows(receive after view) from merge are removed\n",
    "offer_rec_vie_v = offer_rec_vie[~(offer_rec_vie.time_rec>offer_rec_vie.time_vie)].copy()\n",
    "offer_rec_vie_v.shape"
   ]
  },
  {
   "cell_type": "code",
   "execution_count": 26,
   "metadata": {},
   "outputs": [
    {
     "data": {
      "text/plain": [
       "(99057, 10)"
      ]
     },
     "execution_count": 26,
     "metadata": {},
     "output_type": "execute_result"
    }
   ],
   "source": [
    "#Merge offer_receiveandview with offercomplete\n",
    "offer_rec_vie_v_com = offer_rec_vie_v.merge(transcript_offercom,how='left',left_on=['person_rec','offer_id_rec'],right_on=['person_com','offer_id_com'])\n",
    "offer_rec_vie_v_com.shape"
   ]
  },
  {
   "cell_type": "code",
   "execution_count": 27,
   "metadata": {},
   "outputs": [
    {
     "data": {
      "text/plain": [
       "(93639, 10)"
      ]
     },
     "execution_count": 27,
     "metadata": {},
     "output_type": "execute_result"
    }
   ],
   "source": [
    "#Invalid rows(receive after complete) from merge are removed\n",
    "offer_rec_vie_v_com_v = offer_rec_vie_v_com[~(offer_rec_vie_v_com.time_rec>offer_rec_vie_v_com.time_com)].copy()\n",
    "offer_rec_vie_v_com_v.shape"
   ]
  },
  {
   "cell_type": "code",
   "execution_count": null,
   "metadata": {},
   "outputs": [],
   "source": [
    "#offer_rec_vie_v_com.loc[(offer_rec_vie_v_com.person_rec=='a03223e636434f42ac4c3df47e8bac43') &(offer_rec_vie_v_com.offer_id_rec=='0b1e1539f2cc45b7b9fa7c272da2e1d7')]"
   ]
  },
  {
   "cell_type": "code",
   "execution_count": 28,
   "metadata": {},
   "outputs": [],
   "source": [
    "#Create new column 'usercategory' for 4 user groups\n",
    "offer=offer_rec_vie_v_com_v\n",
    "offer['usercategory']=None\n",
    "offer.loc[offer.time_com>=offer.time_vie,'usercategory']='viewandcomplete'\n",
    "offer.loc[(offer.time_vie.isnull()==True) &(offer.time_com.isnull()==False),'usercategory']='completewithoutview'\n",
    "offer.loc[offer.time_vie>offer.time_com,'usercategory']='completewithoutview'\n",
    "offer.loc[(offer.time_vie.isnull()==False) & (offer.time_com.isnull()==True),'usercategory']='viewnotcomplete'\n",
    "offer.loc[(offer.time_vie.isnull()==True) & (offer.time_com.isnull()==True),'usercategory']='noviewnocomplete'\n"
   ]
  },
  {
   "cell_type": "code",
   "execution_count": 29,
   "metadata": {},
   "outputs": [
    {
     "data": {
      "text/html": [
       "<div>\n",
       "<style scoped>\n",
       "    .dataframe tbody tr th:only-of-type {\n",
       "        vertical-align: middle;\n",
       "    }\n",
       "\n",
       "    .dataframe tbody tr th {\n",
       "        vertical-align: top;\n",
       "    }\n",
       "\n",
       "    .dataframe thead th {\n",
       "        text-align: right;\n",
       "    }\n",
       "</style>\n",
       "<table border=\"1\" class=\"dataframe\">\n",
       "  <thead>\n",
       "    <tr style=\"text-align: right;\">\n",
       "      <th></th>\n",
       "      <th>person_rec</th>\n",
       "      <th>time_rec</th>\n",
       "      <th>offer_id_rec</th>\n",
       "      <th>person_vie</th>\n",
       "      <th>time_vie</th>\n",
       "      <th>offer_id_vie</th>\n",
       "      <th>person_com</th>\n",
       "      <th>time_com</th>\n",
       "      <th>offer_id_com</th>\n",
       "      <th>reward_com</th>\n",
       "      <th>usercategory</th>\n",
       "    </tr>\n",
       "  </thead>\n",
       "  <tbody>\n",
       "    <tr>\n",
       "      <th>0</th>\n",
       "      <td>78afa995795e4d85b5d9ceeca43f5fef</td>\n",
       "      <td>0</td>\n",
       "      <td>9b98b8c7a33c4b65b9aebfe6a799e6d9</td>\n",
       "      <td>78afa995795e4d85b5d9ceeca43f5fef</td>\n",
       "      <td>6.0</td>\n",
       "      <td>9b98b8c7a33c4b65b9aebfe6a799e6d9</td>\n",
       "      <td>78afa995795e4d85b5d9ceeca43f5fef</td>\n",
       "      <td>132.0</td>\n",
       "      <td>9b98b8c7a33c4b65b9aebfe6a799e6d9</td>\n",
       "      <td>5.0</td>\n",
       "      <td>viewandcomplete</td>\n",
       "    </tr>\n",
       "    <tr>\n",
       "      <th>1</th>\n",
       "      <td>a03223e636434f42ac4c3df47e8bac43</td>\n",
       "      <td>0</td>\n",
       "      <td>0b1e1539f2cc45b7b9fa7c272da2e1d7</td>\n",
       "      <td>a03223e636434f42ac4c3df47e8bac43</td>\n",
       "      <td>6.0</td>\n",
       "      <td>0b1e1539f2cc45b7b9fa7c272da2e1d7</td>\n",
       "      <td>NaN</td>\n",
       "      <td>NaN</td>\n",
       "      <td>NaN</td>\n",
       "      <td>NaN</td>\n",
       "      <td>viewnotcomplete</td>\n",
       "    </tr>\n",
       "    <tr>\n",
       "      <th>2</th>\n",
       "      <td>a03223e636434f42ac4c3df47e8bac43</td>\n",
       "      <td>0</td>\n",
       "      <td>0b1e1539f2cc45b7b9fa7c272da2e1d7</td>\n",
       "      <td>a03223e636434f42ac4c3df47e8bac43</td>\n",
       "      <td>624.0</td>\n",
       "      <td>0b1e1539f2cc45b7b9fa7c272da2e1d7</td>\n",
       "      <td>NaN</td>\n",
       "      <td>NaN</td>\n",
       "      <td>NaN</td>\n",
       "      <td>NaN</td>\n",
       "      <td>viewnotcomplete</td>\n",
       "    </tr>\n",
       "    <tr>\n",
       "      <th>3</th>\n",
       "      <td>e2127556f4f64592b11af22de27a7932</td>\n",
       "      <td>0</td>\n",
       "      <td>2906b810c7d4411798c6938adc9daaa5</td>\n",
       "      <td>e2127556f4f64592b11af22de27a7932</td>\n",
       "      <td>18.0</td>\n",
       "      <td>2906b810c7d4411798c6938adc9daaa5</td>\n",
       "      <td>NaN</td>\n",
       "      <td>NaN</td>\n",
       "      <td>NaN</td>\n",
       "      <td>NaN</td>\n",
       "      <td>viewnotcomplete</td>\n",
       "    </tr>\n",
       "    <tr>\n",
       "      <th>4</th>\n",
       "      <td>8ec6ce2a7e7949b1bf142def7d0e0586</td>\n",
       "      <td>0</td>\n",
       "      <td>fafdcd668e3743c1bb461111dcafc2a4</td>\n",
       "      <td>8ec6ce2a7e7949b1bf142def7d0e0586</td>\n",
       "      <td>12.0</td>\n",
       "      <td>fafdcd668e3743c1bb461111dcafc2a4</td>\n",
       "      <td>NaN</td>\n",
       "      <td>NaN</td>\n",
       "      <td>NaN</td>\n",
       "      <td>NaN</td>\n",
       "      <td>viewnotcomplete</td>\n",
       "    </tr>\n",
       "  </tbody>\n",
       "</table>\n",
       "</div>"
      ],
      "text/plain": [
       "                         person_rec  time_rec  \\\n",
       "0  78afa995795e4d85b5d9ceeca43f5fef         0   \n",
       "1  a03223e636434f42ac4c3df47e8bac43         0   \n",
       "2  a03223e636434f42ac4c3df47e8bac43         0   \n",
       "3  e2127556f4f64592b11af22de27a7932         0   \n",
       "4  8ec6ce2a7e7949b1bf142def7d0e0586         0   \n",
       "\n",
       "                       offer_id_rec                        person_vie  \\\n",
       "0  9b98b8c7a33c4b65b9aebfe6a799e6d9  78afa995795e4d85b5d9ceeca43f5fef   \n",
       "1  0b1e1539f2cc45b7b9fa7c272da2e1d7  a03223e636434f42ac4c3df47e8bac43   \n",
       "2  0b1e1539f2cc45b7b9fa7c272da2e1d7  a03223e636434f42ac4c3df47e8bac43   \n",
       "3  2906b810c7d4411798c6938adc9daaa5  e2127556f4f64592b11af22de27a7932   \n",
       "4  fafdcd668e3743c1bb461111dcafc2a4  8ec6ce2a7e7949b1bf142def7d0e0586   \n",
       "\n",
       "   time_vie                      offer_id_vie  \\\n",
       "0       6.0  9b98b8c7a33c4b65b9aebfe6a799e6d9   \n",
       "1       6.0  0b1e1539f2cc45b7b9fa7c272da2e1d7   \n",
       "2     624.0  0b1e1539f2cc45b7b9fa7c272da2e1d7   \n",
       "3      18.0  2906b810c7d4411798c6938adc9daaa5   \n",
       "4      12.0  fafdcd668e3743c1bb461111dcafc2a4   \n",
       "\n",
       "                         person_com  time_com  \\\n",
       "0  78afa995795e4d85b5d9ceeca43f5fef     132.0   \n",
       "1                               NaN       NaN   \n",
       "2                               NaN       NaN   \n",
       "3                               NaN       NaN   \n",
       "4                               NaN       NaN   \n",
       "\n",
       "                       offer_id_com  reward_com     usercategory  \n",
       "0  9b98b8c7a33c4b65b9aebfe6a799e6d9         5.0  viewandcomplete  \n",
       "1                               NaN         NaN  viewnotcomplete  \n",
       "2                               NaN         NaN  viewnotcomplete  \n",
       "3                               NaN         NaN  viewnotcomplete  \n",
       "4                               NaN         NaN  viewnotcomplete  "
      ]
     },
     "execution_count": 29,
     "metadata": {},
     "output_type": "execute_result"
    }
   ],
   "source": [
    "offer.head()"
   ]
  },
  {
   "cell_type": "code",
   "execution_count": 30,
   "metadata": {},
   "outputs": [
    {
     "data": {
      "text/plain": [
       "viewandcomplete        34227\n",
       "viewnotcomplete        32795\n",
       "completewithoutview    15837\n",
       "noviewnocomplete       10780\n",
       "Name: usercategory, dtype: int64"
      ]
     },
     "execution_count": 30,
     "metadata": {},
     "output_type": "execute_result"
    }
   ],
   "source": [
    "offer.usercategory.value_counts()"
   ]
  },
  {
   "cell_type": "code",
   "execution_count": 31,
   "metadata": {},
   "outputs": [
    {
     "data": {
      "text/html": [
       "<div>\n",
       "<style scoped>\n",
       "    .dataframe tbody tr th:only-of-type {\n",
       "        vertical-align: middle;\n",
       "    }\n",
       "\n",
       "    .dataframe tbody tr th {\n",
       "        vertical-align: top;\n",
       "    }\n",
       "\n",
       "    .dataframe thead th {\n",
       "        text-align: right;\n",
       "    }\n",
       "</style>\n",
       "<table border=\"1\" class=\"dataframe\">\n",
       "  <thead>\n",
       "    <tr style=\"text-align: right;\">\n",
       "      <th></th>\n",
       "      <th>age</th>\n",
       "      <th>became_member_on</th>\n",
       "      <th>gender</th>\n",
       "      <th>id</th>\n",
       "      <th>income</th>\n",
       "      <th>became_member_on_corr</th>\n",
       "      <th>memberdays</th>\n",
       "    </tr>\n",
       "  </thead>\n",
       "  <tbody>\n",
       "    <tr>\n",
       "      <th>0</th>\n",
       "      <td>118</td>\n",
       "      <td>20170212</td>\n",
       "      <td>None</td>\n",
       "      <td>68be06ca386d4c31939f3a4f0e3dd783</td>\n",
       "      <td>NaN</td>\n",
       "      <td>2017-02-12</td>\n",
       "      <td>764</td>\n",
       "    </tr>\n",
       "    <tr>\n",
       "      <th>1</th>\n",
       "      <td>55</td>\n",
       "      <td>20170715</td>\n",
       "      <td>F</td>\n",
       "      <td>0610b486422d4921ae7d2bf64640c50b</td>\n",
       "      <td>112000.0</td>\n",
       "      <td>2017-07-15</td>\n",
       "      <td>611</td>\n",
       "    </tr>\n",
       "    <tr>\n",
       "      <th>2</th>\n",
       "      <td>118</td>\n",
       "      <td>20180712</td>\n",
       "      <td>None</td>\n",
       "      <td>38fe809add3b4fcf9315a9694bb96ff5</td>\n",
       "      <td>NaN</td>\n",
       "      <td>2018-07-12</td>\n",
       "      <td>249</td>\n",
       "    </tr>\n",
       "    <tr>\n",
       "      <th>3</th>\n",
       "      <td>75</td>\n",
       "      <td>20170509</td>\n",
       "      <td>F</td>\n",
       "      <td>78afa995795e4d85b5d9ceeca43f5fef</td>\n",
       "      <td>100000.0</td>\n",
       "      <td>2017-05-09</td>\n",
       "      <td>678</td>\n",
       "    </tr>\n",
       "    <tr>\n",
       "      <th>4</th>\n",
       "      <td>118</td>\n",
       "      <td>20170804</td>\n",
       "      <td>None</td>\n",
       "      <td>a03223e636434f42ac4c3df47e8bac43</td>\n",
       "      <td>NaN</td>\n",
       "      <td>2017-08-04</td>\n",
       "      <td>591</td>\n",
       "    </tr>\n",
       "  </tbody>\n",
       "</table>\n",
       "</div>"
      ],
      "text/plain": [
       "   age  became_member_on gender                                id    income  \\\n",
       "0  118          20170212   None  68be06ca386d4c31939f3a4f0e3dd783       NaN   \n",
       "1   55          20170715      F  0610b486422d4921ae7d2bf64640c50b  112000.0   \n",
       "2  118          20180712   None  38fe809add3b4fcf9315a9694bb96ff5       NaN   \n",
       "3   75          20170509      F  78afa995795e4d85b5d9ceeca43f5fef  100000.0   \n",
       "4  118          20170804   None  a03223e636434f42ac4c3df47e8bac43       NaN   \n",
       "\n",
       "  became_member_on_corr  memberdays  \n",
       "0            2017-02-12         764  \n",
       "1            2017-07-15         611  \n",
       "2            2018-07-12         249  \n",
       "3            2017-05-09         678  \n",
       "4            2017-08-04         591  "
      ]
     },
     "execution_count": 31,
     "metadata": {},
     "output_type": "execute_result"
    }
   ],
   "source": [
    "# We create 'memberdays' which indicate how many days the users became a member.\n",
    "import datetime\n",
    "profile['became_member_on_corr']=profile.became_member_on.apply(lambda x:str(x))\n",
    "profile['became_member_on_corr']=profile.became_member_on_corr.apply(lambda x :datetime.date(int(x[0:4]),int(x[4:6]),int(x[6:])))\n",
    "today = datetime.date.today()\n",
    "profile['memberdays']=profile.became_member_on_corr.apply(lambda x:(today-x).days)\n",
    "profile.head()"
   ]
  },
  {
   "cell_type": "code",
   "execution_count": 32,
   "metadata": {},
   "outputs": [
    {
     "data": {
      "text/plain": [
       "index         0\n",
       "age           0\n",
       "gender        0\n",
       "id            0\n",
       "income        0\n",
       "memberdays    0\n",
       "dtype: int64"
      ]
     },
     "execution_count": 32,
     "metadata": {},
     "output_type": "execute_result"
    }
   ],
   "source": [
    "profile.drop(['became_member_on','became_member_on_corr'],axis=1,inplace=True)\n",
    "profile.reset_index(inplace=True)\n",
    "#Checking null values in profile dataset\n",
    "profile.isnull().sum()\n",
    "#We drop rows where gender is null\n",
    "profile.dropna(subset=['gender'],axis=0,inplace=True)\n",
    "profile.isnull().sum()"
   ]
  },
  {
   "cell_type": "code",
   "execution_count": 33,
   "metadata": {},
   "outputs": [],
   "source": [
    "#Merge offer_receive/view/complete dataset with profile\n",
    "offer_p=offer.merge(profile,how='inner',left_on=['person_rec'],right_on=['id'])"
   ]
  },
  {
   "cell_type": "markdown",
   "metadata": {},
   "source": [
    "We explored the demographic features of users in the 4 exclusive groups.\n",
    "\n",
    "Group1: Users completed the offer without viewed.\n",
    "\n",
    "Group2: Users viewed the offer and completed it.\n",
    "\n",
    "Group3: Users viewed the offer but not completed it.\n",
    "\n",
    "Group4: Users did not view nor complete the offers.\n"
   ]
  },
  {
   "cell_type": "code",
   "execution_count": 34,
   "metadata": {},
   "outputs": [
    {
     "data": {
      "text/html": [
       "<div>\n",
       "<style scoped>\n",
       "    .dataframe tbody tr th:only-of-type {\n",
       "        vertical-align: middle;\n",
       "    }\n",
       "\n",
       "    .dataframe tbody tr th {\n",
       "        vertical-align: top;\n",
       "    }\n",
       "\n",
       "    .dataframe thead th {\n",
       "        text-align: right;\n",
       "    }\n",
       "</style>\n",
       "<table border=\"1\" class=\"dataframe\">\n",
       "  <thead>\n",
       "    <tr style=\"text-align: right;\">\n",
       "      <th></th>\n",
       "      <th>age</th>\n",
       "      <th>income</th>\n",
       "      <th>memberdays</th>\n",
       "    </tr>\n",
       "    <tr>\n",
       "      <th>usercategory</th>\n",
       "      <th></th>\n",
       "      <th></th>\n",
       "      <th></th>\n",
       "    </tr>\n",
       "  </thead>\n",
       "  <tbody>\n",
       "    <tr>\n",
       "      <th>completewithoutview</th>\n",
       "      <td>57</td>\n",
       "      <td>70000.0</td>\n",
       "      <td>755</td>\n",
       "    </tr>\n",
       "    <tr>\n",
       "      <th>noviewnocomplete</th>\n",
       "      <td>53</td>\n",
       "      <td>56000.0</td>\n",
       "      <td>532</td>\n",
       "    </tr>\n",
       "    <tr>\n",
       "      <th>viewandcomplete</th>\n",
       "      <td>56</td>\n",
       "      <td>68000.0</td>\n",
       "      <td>762</td>\n",
       "    </tr>\n",
       "    <tr>\n",
       "      <th>viewnotcomplete</th>\n",
       "      <td>54</td>\n",
       "      <td>59000.0</td>\n",
       "      <td>523</td>\n",
       "    </tr>\n",
       "  </tbody>\n",
       "</table>\n",
       "</div>"
      ],
      "text/plain": [
       "                     age   income  memberdays\n",
       "usercategory                                 \n",
       "completewithoutview   57  70000.0         755\n",
       "noviewnocomplete      53  56000.0         532\n",
       "viewandcomplete       56  68000.0         762\n",
       "viewnotcomplete       54  59000.0         523"
      ]
     },
     "execution_count": 34,
     "metadata": {},
     "output_type": "execute_result"
    }
   ],
   "source": [
    "offer_p.groupby(['usercategory'])[['age','income','memberdays']].median()"
   ]
  },
  {
   "cell_type": "markdown",
   "metadata": {},
   "source": [
    "Observed the median of age,income and memberdays in the 4 groups, we saw:\n",
    "\n",
    "The users who completed without viewed had the largest age (age median:57),the second rank is the users who viewed and completed offers(age median:56). Users who viewed the offers but not completed (age median:54) and Users who didnot view nor complete (median:53) were much younger. That means elder users have more willing to buy.\n",
    "\n",
    "The users who completed without viewed had highest income(income median:70000).The second rank is the users who viewed and completed  the offer(income median:68000).Users who viewed the offers but not completed(income median:59000) and users who didnot view nor complete(income median:56000) had less income.That means users have higher income are less impacted by offers and also more willing to pay.\n",
    "\n",
    "The users who completed without viewed (memberdays median:755) and users who viewed and completed offers(membership median:762) had the much longer period of membership than the other 2 groups. The other two groups of users who viewed but not completed and users who didnot view nor complete only had membership period of about 500days. That means we should send offers users who have long period of membership ,they are more loyal and have more willing to pay."
   ]
  },
  {
   "cell_type": "code",
   "execution_count": 35,
   "metadata": {
    "scrolled": true
   },
   "outputs": [
    {
     "data": {
      "text/html": [
       "<div>\n",
       "<style scoped>\n",
       "    .dataframe tbody tr th:only-of-type {\n",
       "        vertical-align: middle;\n",
       "    }\n",
       "\n",
       "    .dataframe tbody tr th {\n",
       "        vertical-align: top;\n",
       "    }\n",
       "\n",
       "    .dataframe thead th {\n",
       "        text-align: right;\n",
       "    }\n",
       "</style>\n",
       "<table border=\"1\" class=\"dataframe\">\n",
       "  <thead>\n",
       "    <tr style=\"text-align: right;\">\n",
       "      <th></th>\n",
       "      <th></th>\n",
       "      <th>age</th>\n",
       "      <th>income</th>\n",
       "      <th>memberdays</th>\n",
       "    </tr>\n",
       "    <tr>\n",
       "      <th>gender</th>\n",
       "      <th>usercategory</th>\n",
       "      <th></th>\n",
       "      <th></th>\n",
       "      <th></th>\n",
       "    </tr>\n",
       "  </thead>\n",
       "  <tbody>\n",
       "    <tr>\n",
       "      <th rowspan=\"4\" valign=\"top\">F</th>\n",
       "      <th>completewithoutview</th>\n",
       "      <td>59.0</td>\n",
       "      <td>74000.0</td>\n",
       "      <td>753.0</td>\n",
       "    </tr>\n",
       "    <tr>\n",
       "      <th>noviewnocomplete</th>\n",
       "      <td>57.0</td>\n",
       "      <td>67000.0</td>\n",
       "      <td>566.0</td>\n",
       "    </tr>\n",
       "    <tr>\n",
       "      <th>viewandcomplete</th>\n",
       "      <td>58.0</td>\n",
       "      <td>72000.0</td>\n",
       "      <td>754.0</td>\n",
       "    </tr>\n",
       "    <tr>\n",
       "      <th>viewnotcomplete</th>\n",
       "      <td>57.0</td>\n",
       "      <td>66000.0</td>\n",
       "      <td>534.0</td>\n",
       "    </tr>\n",
       "    <tr>\n",
       "      <th rowspan=\"4\" valign=\"top\">M</th>\n",
       "      <th>completewithoutview</th>\n",
       "      <td>55.0</td>\n",
       "      <td>65000.0</td>\n",
       "      <td>757.0</td>\n",
       "    </tr>\n",
       "    <tr>\n",
       "      <th>noviewnocomplete</th>\n",
       "      <td>51.0</td>\n",
       "      <td>52000.0</td>\n",
       "      <td>515.0</td>\n",
       "    </tr>\n",
       "    <tr>\n",
       "      <th>viewandcomplete</th>\n",
       "      <td>54.0</td>\n",
       "      <td>64000.0</td>\n",
       "      <td>771.0</td>\n",
       "    </tr>\n",
       "    <tr>\n",
       "      <th>viewnotcomplete</th>\n",
       "      <td>52.0</td>\n",
       "      <td>56000.0</td>\n",
       "      <td>517.5</td>\n",
       "    </tr>\n",
       "    <tr>\n",
       "      <th rowspan=\"4\" valign=\"top\">O</th>\n",
       "      <th>completewithoutview</th>\n",
       "      <td>57.0</td>\n",
       "      <td>66500.0</td>\n",
       "      <td>761.0</td>\n",
       "    </tr>\n",
       "    <tr>\n",
       "      <th>noviewnocomplete</th>\n",
       "      <td>51.0</td>\n",
       "      <td>48000.0</td>\n",
       "      <td>539.0</td>\n",
       "    </tr>\n",
       "    <tr>\n",
       "      <th>viewandcomplete</th>\n",
       "      <td>55.0</td>\n",
       "      <td>67500.0</td>\n",
       "      <td>700.0</td>\n",
       "    </tr>\n",
       "    <tr>\n",
       "      <th>viewnotcomplete</th>\n",
       "      <td>55.0</td>\n",
       "      <td>63000.0</td>\n",
       "      <td>513.0</td>\n",
       "    </tr>\n",
       "  </tbody>\n",
       "</table>\n",
       "</div>"
      ],
      "text/plain": [
       "                             age   income  memberdays\n",
       "gender usercategory                                  \n",
       "F      completewithoutview  59.0  74000.0       753.0\n",
       "       noviewnocomplete     57.0  67000.0       566.0\n",
       "       viewandcomplete      58.0  72000.0       754.0\n",
       "       viewnotcomplete      57.0  66000.0       534.0\n",
       "M      completewithoutview  55.0  65000.0       757.0\n",
       "       noviewnocomplete     51.0  52000.0       515.0\n",
       "       viewandcomplete      54.0  64000.0       771.0\n",
       "       viewnotcomplete      52.0  56000.0       517.5\n",
       "O      completewithoutview  57.0  66500.0       761.0\n",
       "       noviewnocomplete     51.0  48000.0       539.0\n",
       "       viewandcomplete      55.0  67500.0       700.0\n",
       "       viewnotcomplete      55.0  63000.0       513.0"
      ]
     },
     "execution_count": 35,
     "metadata": {},
     "output_type": "execute_result"
    }
   ],
   "source": [
    "offer_p.groupby(['gender','usercategory'])[['age','income','memberdays']].median()"
   ]
  },
  {
   "cell_type": "markdown",
   "metadata": {},
   "source": [
    "We saw that female users had higher income than male users. Female users' age were higher than male users. "
   ]
  },
  {
   "cell_type": "code",
   "execution_count": 36,
   "metadata": {},
   "outputs": [],
   "source": [
    "def create_channels(portfolio=portfolio):\n",
    "    portfolio['channels_web']=0\n",
    "    portfolio['channels_email']=0\n",
    "    portfolio['channels_mobile']=0\n",
    "    portfolio['channels_social']=0\n",
    "    channels=['web','email','mobile','social']\n",
    "    for c in channels:\n",
    "        for i in range(portfolio.shape[0]):\n",
    "            if c=='web'and c in portfolio.channels[i]:\n",
    "                portfolio.loc[i ,'channels_web']=1\n",
    "            if c=='email'and c in portfolio.channels[i]:\n",
    "                portfolio.loc[i,'channels_email']=1\n",
    "            if c=='mobile'and c in portfolio.channels[i]:\n",
    "                portfolio.loc[i,'channels_mobile']=1\n",
    "            if c=='social'and c in portfolio.channels[i]:\n",
    "                portfolio.loc[i,'channels_social']=1\n",
    "    return portfolio\n",
    "portfolio = create_channels()"
   ]
  },
  {
   "cell_type": "code",
   "execution_count": 37,
   "metadata": {},
   "outputs": [
    {
     "data": {
      "text/html": [
       "<div>\n",
       "<style scoped>\n",
       "    .dataframe tbody tr th:only-of-type {\n",
       "        vertical-align: middle;\n",
       "    }\n",
       "\n",
       "    .dataframe tbody tr th {\n",
       "        vertical-align: top;\n",
       "    }\n",
       "\n",
       "    .dataframe thead th {\n",
       "        text-align: right;\n",
       "    }\n",
       "</style>\n",
       "<table border=\"1\" class=\"dataframe\">\n",
       "  <thead>\n",
       "    <tr style=\"text-align: right;\">\n",
       "      <th></th>\n",
       "      <th>difficulty</th>\n",
       "      <th>duration</th>\n",
       "      <th>id</th>\n",
       "      <th>offer_type</th>\n",
       "      <th>reward</th>\n",
       "      <th>channels_web</th>\n",
       "      <th>channels_email</th>\n",
       "      <th>channels_mobile</th>\n",
       "      <th>channels_social</th>\n",
       "    </tr>\n",
       "  </thead>\n",
       "  <tbody>\n",
       "    <tr>\n",
       "      <th>0</th>\n",
       "      <td>10</td>\n",
       "      <td>7</td>\n",
       "      <td>ae264e3637204a6fb9bb56bc8210ddfd</td>\n",
       "      <td>bogo</td>\n",
       "      <td>10</td>\n",
       "      <td>0</td>\n",
       "      <td>1</td>\n",
       "      <td>1</td>\n",
       "      <td>1</td>\n",
       "    </tr>\n",
       "    <tr>\n",
       "      <th>1</th>\n",
       "      <td>10</td>\n",
       "      <td>5</td>\n",
       "      <td>4d5c57ea9a6940dd891ad53e9dbe8da0</td>\n",
       "      <td>bogo</td>\n",
       "      <td>10</td>\n",
       "      <td>1</td>\n",
       "      <td>1</td>\n",
       "      <td>1</td>\n",
       "      <td>1</td>\n",
       "    </tr>\n",
       "    <tr>\n",
       "      <th>2</th>\n",
       "      <td>0</td>\n",
       "      <td>4</td>\n",
       "      <td>3f207df678b143eea3cee63160fa8bed</td>\n",
       "      <td>informational</td>\n",
       "      <td>0</td>\n",
       "      <td>1</td>\n",
       "      <td>1</td>\n",
       "      <td>1</td>\n",
       "      <td>0</td>\n",
       "    </tr>\n",
       "    <tr>\n",
       "      <th>3</th>\n",
       "      <td>5</td>\n",
       "      <td>7</td>\n",
       "      <td>9b98b8c7a33c4b65b9aebfe6a799e6d9</td>\n",
       "      <td>bogo</td>\n",
       "      <td>5</td>\n",
       "      <td>1</td>\n",
       "      <td>1</td>\n",
       "      <td>1</td>\n",
       "      <td>0</td>\n",
       "    </tr>\n",
       "    <tr>\n",
       "      <th>4</th>\n",
       "      <td>20</td>\n",
       "      <td>10</td>\n",
       "      <td>0b1e1539f2cc45b7b9fa7c272da2e1d7</td>\n",
       "      <td>discount</td>\n",
       "      <td>5</td>\n",
       "      <td>1</td>\n",
       "      <td>1</td>\n",
       "      <td>0</td>\n",
       "      <td>0</td>\n",
       "    </tr>\n",
       "  </tbody>\n",
       "</table>\n",
       "</div>"
      ],
      "text/plain": [
       "   difficulty  duration                                id     offer_type  \\\n",
       "0          10         7  ae264e3637204a6fb9bb56bc8210ddfd           bogo   \n",
       "1          10         5  4d5c57ea9a6940dd891ad53e9dbe8da0           bogo   \n",
       "2           0         4  3f207df678b143eea3cee63160fa8bed  informational   \n",
       "3           5         7  9b98b8c7a33c4b65b9aebfe6a799e6d9           bogo   \n",
       "4          20        10  0b1e1539f2cc45b7b9fa7c272da2e1d7       discount   \n",
       "\n",
       "   reward  channels_web  channels_email  channels_mobile  channels_social  \n",
       "0      10             0               1                1                1  \n",
       "1      10             1               1                1                1  \n",
       "2       0             1               1                1                0  \n",
       "3       5             1               1                1                0  \n",
       "4       5             1               1                0                0  "
      ]
     },
     "execution_count": 37,
     "metadata": {},
     "output_type": "execute_result"
    }
   ],
   "source": [
    "portfolio.drop(['channels'],axis=1,inplace=True)\n",
    "portfolio.head()"
   ]
  },
  {
   "cell_type": "code",
   "execution_count": 38,
   "metadata": {},
   "outputs": [
    {
     "data": {
      "text/html": [
       "<div>\n",
       "<style scoped>\n",
       "    .dataframe tbody tr th:only-of-type {\n",
       "        vertical-align: middle;\n",
       "    }\n",
       "\n",
       "    .dataframe tbody tr th {\n",
       "        vertical-align: top;\n",
       "    }\n",
       "\n",
       "    .dataframe thead th {\n",
       "        text-align: right;\n",
       "    }\n",
       "</style>\n",
       "<table border=\"1\" class=\"dataframe\">\n",
       "  <thead>\n",
       "    <tr style=\"text-align: right;\">\n",
       "      <th></th>\n",
       "      <th>person_rec</th>\n",
       "      <th>time_rec</th>\n",
       "      <th>offer_id_rec</th>\n",
       "      <th>person_vie</th>\n",
       "      <th>time_vie</th>\n",
       "      <th>offer_id_vie</th>\n",
       "      <th>person_com</th>\n",
       "      <th>time_com</th>\n",
       "      <th>offer_id_com</th>\n",
       "      <th>reward_com</th>\n",
       "      <th>...</th>\n",
       "      <th>memberdays</th>\n",
       "      <th>difficulty</th>\n",
       "      <th>duration</th>\n",
       "      <th>id_y</th>\n",
       "      <th>offer_type</th>\n",
       "      <th>reward</th>\n",
       "      <th>channels_web</th>\n",
       "      <th>channels_email</th>\n",
       "      <th>channels_mobile</th>\n",
       "      <th>channels_social</th>\n",
       "    </tr>\n",
       "  </thead>\n",
       "  <tbody>\n",
       "    <tr>\n",
       "      <th>0</th>\n",
       "      <td>78afa995795e4d85b5d9ceeca43f5fef</td>\n",
       "      <td>0</td>\n",
       "      <td>9b98b8c7a33c4b65b9aebfe6a799e6d9</td>\n",
       "      <td>78afa995795e4d85b5d9ceeca43f5fef</td>\n",
       "      <td>6.0</td>\n",
       "      <td>9b98b8c7a33c4b65b9aebfe6a799e6d9</td>\n",
       "      <td>78afa995795e4d85b5d9ceeca43f5fef</td>\n",
       "      <td>132.0</td>\n",
       "      <td>9b98b8c7a33c4b65b9aebfe6a799e6d9</td>\n",
       "      <td>5.0</td>\n",
       "      <td>...</td>\n",
       "      <td>678</td>\n",
       "      <td>5</td>\n",
       "      <td>7</td>\n",
       "      <td>9b98b8c7a33c4b65b9aebfe6a799e6d9</td>\n",
       "      <td>bogo</td>\n",
       "      <td>5</td>\n",
       "      <td>1</td>\n",
       "      <td>1</td>\n",
       "      <td>1</td>\n",
       "      <td>0</td>\n",
       "    </tr>\n",
       "    <tr>\n",
       "      <th>1</th>\n",
       "      <td>e2127556f4f64592b11af22de27a7932</td>\n",
       "      <td>408</td>\n",
       "      <td>9b98b8c7a33c4b65b9aebfe6a799e6d9</td>\n",
       "      <td>e2127556f4f64592b11af22de27a7932</td>\n",
       "      <td>420.0</td>\n",
       "      <td>9b98b8c7a33c4b65b9aebfe6a799e6d9</td>\n",
       "      <td>e2127556f4f64592b11af22de27a7932</td>\n",
       "      <td>522.0</td>\n",
       "      <td>9b98b8c7a33c4b65b9aebfe6a799e6d9</td>\n",
       "      <td>5.0</td>\n",
       "      <td>...</td>\n",
       "      <td>326</td>\n",
       "      <td>5</td>\n",
       "      <td>7</td>\n",
       "      <td>9b98b8c7a33c4b65b9aebfe6a799e6d9</td>\n",
       "      <td>bogo</td>\n",
       "      <td>5</td>\n",
       "      <td>1</td>\n",
       "      <td>1</td>\n",
       "      <td>1</td>\n",
       "      <td>0</td>\n",
       "    </tr>\n",
       "    <tr>\n",
       "      <th>2</th>\n",
       "      <td>389bc3fa690240e798340f5a15918d5c</td>\n",
       "      <td>168</td>\n",
       "      <td>9b98b8c7a33c4b65b9aebfe6a799e6d9</td>\n",
       "      <td>389bc3fa690240e798340f5a15918d5c</td>\n",
       "      <td>192.0</td>\n",
       "      <td>9b98b8c7a33c4b65b9aebfe6a799e6d9</td>\n",
       "      <td>389bc3fa690240e798340f5a15918d5c</td>\n",
       "      <td>498.0</td>\n",
       "      <td>9b98b8c7a33c4b65b9aebfe6a799e6d9</td>\n",
       "      <td>5.0</td>\n",
       "      <td>...</td>\n",
       "      <td>402</td>\n",
       "      <td>5</td>\n",
       "      <td>7</td>\n",
       "      <td>9b98b8c7a33c4b65b9aebfe6a799e6d9</td>\n",
       "      <td>bogo</td>\n",
       "      <td>5</td>\n",
       "      <td>1</td>\n",
       "      <td>1</td>\n",
       "      <td>1</td>\n",
       "      <td>0</td>\n",
       "    </tr>\n",
       "    <tr>\n",
       "      <th>3</th>\n",
       "      <td>389bc3fa690240e798340f5a15918d5c</td>\n",
       "      <td>168</td>\n",
       "      <td>9b98b8c7a33c4b65b9aebfe6a799e6d9</td>\n",
       "      <td>389bc3fa690240e798340f5a15918d5c</td>\n",
       "      <td>438.0</td>\n",
       "      <td>9b98b8c7a33c4b65b9aebfe6a799e6d9</td>\n",
       "      <td>389bc3fa690240e798340f5a15918d5c</td>\n",
       "      <td>498.0</td>\n",
       "      <td>9b98b8c7a33c4b65b9aebfe6a799e6d9</td>\n",
       "      <td>5.0</td>\n",
       "      <td>...</td>\n",
       "      <td>402</td>\n",
       "      <td>5</td>\n",
       "      <td>7</td>\n",
       "      <td>9b98b8c7a33c4b65b9aebfe6a799e6d9</td>\n",
       "      <td>bogo</td>\n",
       "      <td>5</td>\n",
       "      <td>1</td>\n",
       "      <td>1</td>\n",
       "      <td>1</td>\n",
       "      <td>0</td>\n",
       "    </tr>\n",
       "    <tr>\n",
       "      <th>4</th>\n",
       "      <td>389bc3fa690240e798340f5a15918d5c</td>\n",
       "      <td>408</td>\n",
       "      <td>9b98b8c7a33c4b65b9aebfe6a799e6d9</td>\n",
       "      <td>389bc3fa690240e798340f5a15918d5c</td>\n",
       "      <td>438.0</td>\n",
       "      <td>9b98b8c7a33c4b65b9aebfe6a799e6d9</td>\n",
       "      <td>389bc3fa690240e798340f5a15918d5c</td>\n",
       "      <td>498.0</td>\n",
       "      <td>9b98b8c7a33c4b65b9aebfe6a799e6d9</td>\n",
       "      <td>5.0</td>\n",
       "      <td>...</td>\n",
       "      <td>402</td>\n",
       "      <td>5</td>\n",
       "      <td>7</td>\n",
       "      <td>9b98b8c7a33c4b65b9aebfe6a799e6d9</td>\n",
       "      <td>bogo</td>\n",
       "      <td>5</td>\n",
       "      <td>1</td>\n",
       "      <td>1</td>\n",
       "      <td>1</td>\n",
       "      <td>0</td>\n",
       "    </tr>\n",
       "  </tbody>\n",
       "</table>\n",
       "<p>5 rows × 26 columns</p>\n",
       "</div>"
      ],
      "text/plain": [
       "                         person_rec  time_rec  \\\n",
       "0  78afa995795e4d85b5d9ceeca43f5fef         0   \n",
       "1  e2127556f4f64592b11af22de27a7932       408   \n",
       "2  389bc3fa690240e798340f5a15918d5c       168   \n",
       "3  389bc3fa690240e798340f5a15918d5c       168   \n",
       "4  389bc3fa690240e798340f5a15918d5c       408   \n",
       "\n",
       "                       offer_id_rec                        person_vie  \\\n",
       "0  9b98b8c7a33c4b65b9aebfe6a799e6d9  78afa995795e4d85b5d9ceeca43f5fef   \n",
       "1  9b98b8c7a33c4b65b9aebfe6a799e6d9  e2127556f4f64592b11af22de27a7932   \n",
       "2  9b98b8c7a33c4b65b9aebfe6a799e6d9  389bc3fa690240e798340f5a15918d5c   \n",
       "3  9b98b8c7a33c4b65b9aebfe6a799e6d9  389bc3fa690240e798340f5a15918d5c   \n",
       "4  9b98b8c7a33c4b65b9aebfe6a799e6d9  389bc3fa690240e798340f5a15918d5c   \n",
       "\n",
       "   time_vie                      offer_id_vie  \\\n",
       "0       6.0  9b98b8c7a33c4b65b9aebfe6a799e6d9   \n",
       "1     420.0  9b98b8c7a33c4b65b9aebfe6a799e6d9   \n",
       "2     192.0  9b98b8c7a33c4b65b9aebfe6a799e6d9   \n",
       "3     438.0  9b98b8c7a33c4b65b9aebfe6a799e6d9   \n",
       "4     438.0  9b98b8c7a33c4b65b9aebfe6a799e6d9   \n",
       "\n",
       "                         person_com  time_com  \\\n",
       "0  78afa995795e4d85b5d9ceeca43f5fef     132.0   \n",
       "1  e2127556f4f64592b11af22de27a7932     522.0   \n",
       "2  389bc3fa690240e798340f5a15918d5c     498.0   \n",
       "3  389bc3fa690240e798340f5a15918d5c     498.0   \n",
       "4  389bc3fa690240e798340f5a15918d5c     498.0   \n",
       "\n",
       "                       offer_id_com  reward_com  ... memberdays  difficulty  \\\n",
       "0  9b98b8c7a33c4b65b9aebfe6a799e6d9         5.0  ...        678           5   \n",
       "1  9b98b8c7a33c4b65b9aebfe6a799e6d9         5.0  ...        326           5   \n",
       "2  9b98b8c7a33c4b65b9aebfe6a799e6d9         5.0  ...        402           5   \n",
       "3  9b98b8c7a33c4b65b9aebfe6a799e6d9         5.0  ...        402           5   \n",
       "4  9b98b8c7a33c4b65b9aebfe6a799e6d9         5.0  ...        402           5   \n",
       "\n",
       "   duration                              id_y offer_type  reward  \\\n",
       "0         7  9b98b8c7a33c4b65b9aebfe6a799e6d9       bogo       5   \n",
       "1         7  9b98b8c7a33c4b65b9aebfe6a799e6d9       bogo       5   \n",
       "2         7  9b98b8c7a33c4b65b9aebfe6a799e6d9       bogo       5   \n",
       "3         7  9b98b8c7a33c4b65b9aebfe6a799e6d9       bogo       5   \n",
       "4         7  9b98b8c7a33c4b65b9aebfe6a799e6d9       bogo       5   \n",
       "\n",
       "   channels_web  channels_email  channels_mobile channels_social  \n",
       "0             1               1                1               0  \n",
       "1             1               1                1               0  \n",
       "2             1               1                1               0  \n",
       "3             1               1                1               0  \n",
       "4             1               1                1               0  \n",
       "\n",
       "[5 rows x 26 columns]"
      ]
     },
     "execution_count": 38,
     "metadata": {},
     "output_type": "execute_result"
    }
   ],
   "source": [
    "#Merge offer receive/view/complte/profile dataset to portofolio\n",
    "offer_p_f = offer_p.merge(portfolio,how='inner',left_on=['offer_id_rec'],right_on=['id'])\n",
    "offer_p_f.head()"
   ]
  },
  {
   "cell_type": "markdown",
   "metadata": {},
   "source": [
    "We explored the user demographic in each offer type."
   ]
  },
  {
   "cell_type": "code",
   "execution_count": 39,
   "metadata": {},
   "outputs": [
    {
     "data": {
      "text/html": [
       "<div>\n",
       "<style scoped>\n",
       "    .dataframe tbody tr th:only-of-type {\n",
       "        vertical-align: middle;\n",
       "    }\n",
       "\n",
       "    .dataframe tbody tr th {\n",
       "        vertical-align: top;\n",
       "    }\n",
       "\n",
       "    .dataframe thead th {\n",
       "        text-align: right;\n",
       "    }\n",
       "</style>\n",
       "<table border=\"1\" class=\"dataframe\">\n",
       "  <thead>\n",
       "    <tr style=\"text-align: right;\">\n",
       "      <th></th>\n",
       "      <th></th>\n",
       "      <th>age</th>\n",
       "      <th>income</th>\n",
       "      <th>memberdays</th>\n",
       "    </tr>\n",
       "    <tr>\n",
       "      <th>usercategory</th>\n",
       "      <th>offer_type</th>\n",
       "      <th></th>\n",
       "      <th></th>\n",
       "      <th></th>\n",
       "    </tr>\n",
       "  </thead>\n",
       "  <tbody>\n",
       "    <tr>\n",
       "      <th rowspan=\"2\" valign=\"top\">completewithoutview</th>\n",
       "      <th>bogo</th>\n",
       "      <td>57</td>\n",
       "      <td>71000.0</td>\n",
       "      <td>751</td>\n",
       "    </tr>\n",
       "    <tr>\n",
       "      <th>discount</th>\n",
       "      <td>57</td>\n",
       "      <td>70000.0</td>\n",
       "      <td>759</td>\n",
       "    </tr>\n",
       "    <tr>\n",
       "      <th rowspan=\"3\" valign=\"top\">noviewnocomplete</th>\n",
       "      <th>bogo</th>\n",
       "      <td>53</td>\n",
       "      <td>54000.0</td>\n",
       "      <td>518</td>\n",
       "    </tr>\n",
       "    <tr>\n",
       "      <th>discount</th>\n",
       "      <td>51</td>\n",
       "      <td>53000.0</td>\n",
       "      <td>512</td>\n",
       "    </tr>\n",
       "    <tr>\n",
       "      <th>informational</th>\n",
       "      <td>56</td>\n",
       "      <td>61000.0</td>\n",
       "      <td>568</td>\n",
       "    </tr>\n",
       "    <tr>\n",
       "      <th rowspan=\"2\" valign=\"top\">viewandcomplete</th>\n",
       "      <th>bogo</th>\n",
       "      <td>57</td>\n",
       "      <td>70000.0</td>\n",
       "      <td>756</td>\n",
       "    </tr>\n",
       "    <tr>\n",
       "      <th>discount</th>\n",
       "      <td>56</td>\n",
       "      <td>67000.0</td>\n",
       "      <td>771</td>\n",
       "    </tr>\n",
       "    <tr>\n",
       "      <th rowspan=\"3\" valign=\"top\">viewnotcomplete</th>\n",
       "      <th>bogo</th>\n",
       "      <td>52</td>\n",
       "      <td>55000.0</td>\n",
       "      <td>497</td>\n",
       "    </tr>\n",
       "    <tr>\n",
       "      <th>discount</th>\n",
       "      <td>54</td>\n",
       "      <td>58000.0</td>\n",
       "      <td>443</td>\n",
       "    </tr>\n",
       "    <tr>\n",
       "      <th>informational</th>\n",
       "      <td>55</td>\n",
       "      <td>64000.0</td>\n",
       "      <td>607</td>\n",
       "    </tr>\n",
       "  </tbody>\n",
       "</table>\n",
       "</div>"
      ],
      "text/plain": [
       "                                   age   income  memberdays\n",
       "usercategory        offer_type                             \n",
       "completewithoutview bogo            57  71000.0         751\n",
       "                    discount        57  70000.0         759\n",
       "noviewnocomplete    bogo            53  54000.0         518\n",
       "                    discount        51  53000.0         512\n",
       "                    informational   56  61000.0         568\n",
       "viewandcomplete     bogo            57  70000.0         756\n",
       "                    discount        56  67000.0         771\n",
       "viewnotcomplete     bogo            52  55000.0         497\n",
       "                    discount        54  58000.0         443\n",
       "                    informational   55  64000.0         607"
      ]
     },
     "execution_count": 39,
     "metadata": {},
     "output_type": "execute_result"
    }
   ],
   "source": [
    "offer_p_f.groupby(['usercategory','offer_type'])[['age','income','memberdays']].median()"
   ]
  },
  {
   "cell_type": "markdown",
   "metadata": {},
   "source": [
    "We saw users who completed bogo and discount offers had longer membership period(above 750days) than users who didnot completed offers(about 500days). Ages of users who completed bogo and discount offers(above 56) are higher than users did not(about 52). Users who completed bogo and discount offers have higher income (above 67000) than who did not(about 55000). We should notice that information offer donot have complete events, so next we will examine how information offers influence on transactions."
   ]
  },
  {
   "cell_type": "markdown",
   "metadata": {},
   "source": [
    "We examined the users who received informational offers whether influence on their purchase action."
   ]
  },
  {
   "cell_type": "code",
   "execution_count": 40,
   "metadata": {},
   "outputs": [
    {
     "data": {
      "text/plain": [
       "(14464, 26)"
      ]
     },
     "execution_count": 40,
     "metadata": {},
     "output_type": "execute_result"
    }
   ],
   "source": [
    "#We extracted information offers event to study in offer_p_f_1 dataset\n",
    "offer_p_f_1 = offer_p_f.loc[(offer_p_f.offer_type=='informational')].copy()\n",
    "offer_p_f_1.shape"
   ]
  },
  {
   "cell_type": "code",
   "execution_count": null,
   "metadata": {},
   "outputs": [],
   "source": [
    "#offer_p_f.loc[offer_p_f.person_rec=='78afa995795e4d85b5d9ceeca43f5fef']"
   ]
  },
  {
   "cell_type": "code",
   "execution_count": 41,
   "metadata": {},
   "outputs": [],
   "source": [
    "#Merged information event to transaction event on person receive\n",
    "offer_p_f_1=offer_p_f_1.merge(transcript_trans,how='left',left_on=['person_rec'],right_on=['person_trans'])"
   ]
  },
  {
   "cell_type": "code",
   "execution_count": null,
   "metadata": {},
   "outputs": [],
   "source": [
    "#offer_p_f_1.loc[ (offer_p_f_1.time_trans.isnull()==True) | ((offer_p_f_1.time_trans>=offer_p_f_1.time_rec) & (offer_p_f_1.time_trans<=(offer_p_f_1.time_rec+offer_p_f_1.duration*24)))].shape"
   ]
  },
  {
   "cell_type": "code",
   "execution_count": 42,
   "metadata": {},
   "outputs": [],
   "source": [
    "offer_p_f_1_s=offer_p_f_1.loc[(offer_p_f_1.time_trans.isnull()==True) | ((offer_p_f_1.time_trans>=offer_p_f_1.time_rec) & (offer_p_f_1.time_trans<=(offer_p_f_1.time_rec+offer_p_f_1.duration*24)))].copy()"
   ]
  },
  {
   "cell_type": "code",
   "execution_count": 43,
   "metadata": {},
   "outputs": [],
   "source": [
    "offer_p_f_1_s.loc[offer_p_f_1_s.time_vie>offer_p_f_1_s.time_trans,'usercategory']='information_trans_not_view'\n",
    "offer_p_f_1_s.loc[offer_p_f_1_s.time_vie<=offer_p_f_1_s.time_trans,'usercategory']='information_trans_and_view'\n",
    "offer_p_f_1_s.loc[(offer_p_f_1_s.time_vie.isnull()==True) & (offer_p_f_1_s.time_trans.isnull()==False),'usercategory']='information_trans_not_view'\n",
    "offer_p_f_1_s.loc[(offer_p_f_1_s.time_vie.isnull()==True) & (offer_p_f_1_s.time_trans.isnull()==True),'usercategory']='information_not_view_not_trans'\n",
    "offer_p_f_1_s.loc[(offer_p_f_1_s.time_vie.isnull()==False) & (offer_p_f_1_s.time_trans.isnull()==True),'usercategory']='information_view_not_trans'"
   ]
  },
  {
   "cell_type": "code",
   "execution_count": 44,
   "metadata": {},
   "outputs": [
    {
     "data": {
      "text/plain": [
       "0"
      ]
     },
     "execution_count": 44,
     "metadata": {},
     "output_type": "execute_result"
    }
   ],
   "source": [
    "offer_p_f_1_s.usercategory.isnull().sum()"
   ]
  },
  {
   "cell_type": "code",
   "execution_count": 45,
   "metadata": {},
   "outputs": [
    {
     "data": {
      "text/html": [
       "<div>\n",
       "<style scoped>\n",
       "    .dataframe tbody tr th:only-of-type {\n",
       "        vertical-align: middle;\n",
       "    }\n",
       "\n",
       "    .dataframe tbody tr th {\n",
       "        vertical-align: top;\n",
       "    }\n",
       "\n",
       "    .dataframe thead th {\n",
       "        text-align: right;\n",
       "    }\n",
       "</style>\n",
       "<table border=\"1\" class=\"dataframe\">\n",
       "  <thead>\n",
       "    <tr style=\"text-align: right;\">\n",
       "      <th></th>\n",
       "      <th></th>\n",
       "      <th>age</th>\n",
       "      <th>income</th>\n",
       "      <th>memberdays</th>\n",
       "    </tr>\n",
       "    <tr>\n",
       "      <th>offer_type</th>\n",
       "      <th>usercategory</th>\n",
       "      <th></th>\n",
       "      <th></th>\n",
       "      <th></th>\n",
       "    </tr>\n",
       "  </thead>\n",
       "  <tbody>\n",
       "    <tr>\n",
       "      <th rowspan=\"4\" valign=\"top\">informational</th>\n",
       "      <th>information_not_view_not_trans</th>\n",
       "      <td>59.0</td>\n",
       "      <td>65000.0</td>\n",
       "      <td>477.0</td>\n",
       "    </tr>\n",
       "    <tr>\n",
       "      <th>information_trans_and_view</th>\n",
       "      <td>54.0</td>\n",
       "      <td>59000.0</td>\n",
       "      <td>813.0</td>\n",
       "    </tr>\n",
       "    <tr>\n",
       "      <th>information_trans_not_view</th>\n",
       "      <td>54.0</td>\n",
       "      <td>58500.0</td>\n",
       "      <td>760.5</td>\n",
       "    </tr>\n",
       "    <tr>\n",
       "      <th>information_view_not_trans</th>\n",
       "      <td>55.0</td>\n",
       "      <td>76000.0</td>\n",
       "      <td>441.0</td>\n",
       "    </tr>\n",
       "  </tbody>\n",
       "</table>\n",
       "</div>"
      ],
      "text/plain": [
       "                                               age   income  memberdays\n",
       "offer_type    usercategory                                             \n",
       "informational information_not_view_not_trans  59.0  65000.0       477.0\n",
       "              information_trans_and_view      54.0  59000.0       813.0\n",
       "              information_trans_not_view      54.0  58500.0       760.5\n",
       "              information_view_not_trans      55.0  76000.0       441.0"
      ]
     },
     "execution_count": 45,
     "metadata": {},
     "output_type": "execute_result"
    }
   ],
   "source": [
    "offer_p_f_1_s.groupby(['offer_type','usercategory'])[['age','income','memberdays']].median()"
   ]
  },
  {
   "cell_type": "markdown",
   "metadata": {},
   "source": [
    "For users who received information offers, we saw users who had transactions with or without viewed had longer membership days(above 760 days) and less income (income median 59000) than users who did not had transactions with or without viewed (membership about 450 days and income above 65000). "
   ]
  },
  {
   "cell_type": "markdown",
   "metadata": {},
   "source": [
    "### <a class=\"anchor\" id=\"Classification\">Part II: Classification to Predict Completion</a>\n",
    "\n",
    "In this section we built a classifier to predict whether a user who receive the offer would view and complete it based on demographic user features and offer portfolio. For users who would complete without view are not the group we are interested in, because they are not influenced by offers and we need not to send offers to them."
   ]
  },
  {
   "cell_type": "code",
   "execution_count": 46,
   "metadata": {},
   "outputs": [
    {
     "name": "stdout",
     "output_type": "stream",
     "text": [
      "Informational offers donot have completion event, Ture of False?\n",
      "True\n"
     ]
    },
    {
     "data": {
      "text/plain": [
       "(68057, 26)"
      ]
     },
     "execution_count": 46,
     "metadata": {},
     "output_type": "execute_result"
    }
   ],
   "source": [
    "#We found that informational offers donot have complete events, so we removed informational offer event to predict viewandcomplete\n",
    "print ('Informational offers donot have completion event, Ture of False?')\n",
    "print (offer_p_f.loc[offer_p_f.offer_type=='informational'].shape[0]==offer_p_f.loc[offer_p_f.offer_type=='informational'].person_com.isnull().sum())\n",
    "#offer_p_f_2 contains bogo and discount offer, we built model based on offer_p_f_2\n",
    "offer_p_f_2 = offer_p_f.loc[(offer_p_f.offer_type!='informational')].copy()\n",
    "offer_p_f_2.shape"
   ]
  },
  {
   "cell_type": "code",
   "execution_count": 47,
   "metadata": {},
   "outputs": [
    {
     "data": {
      "text/plain": [
       "Index(['person_rec', 'time_rec', 'offer_id_rec', 'person_vie', 'time_vie',\n",
       "       'offer_id_vie', 'person_com', 'time_com', 'offer_id_com', 'reward_com',\n",
       "       'usercategory', 'index', 'age', 'gender', 'id_x', 'income',\n",
       "       'memberdays', 'difficulty', 'duration', 'id_y', 'offer_type', 'reward',\n",
       "       'channels_web', 'channels_email', 'channels_mobile', 'channels_social'],\n",
       "      dtype='object')"
      ]
     },
     "execution_count": 47,
     "metadata": {},
     "output_type": "execute_result"
    }
   ],
   "source": [
    "offer_p_f_2.columns"
   ]
  },
  {
   "cell_type": "code",
   "execution_count": 48,
   "metadata": {},
   "outputs": [],
   "source": [
    "offer_p_f_2['viewandcomplete']=0\n",
    "offer_p_f_2.loc[offer_p_f_2.usercategory=='viewandcomplete','viewandcomplete']=1"
   ]
  },
  {
   "cell_type": "code",
   "execution_count": 49,
   "metadata": {},
   "outputs": [
    {
     "data": {
      "text/plain": [
       "age                0\n",
       "gender             0\n",
       "income             0\n",
       "memberdays         0\n",
       "difficulty         0\n",
       "duration           0\n",
       "offer_type         0\n",
       "reward             0\n",
       "channels_web       0\n",
       "channels_email     0\n",
       "channels_mobile    0\n",
       "channels_social    0\n",
       "dtype: int64"
      ]
     },
     "execution_count": 49,
     "metadata": {},
     "output_type": "execute_result"
    }
   ],
   "source": [
    "#Check for null values\n",
    "X= offer_p_f_2[['age', 'gender','income','memberdays', 'difficulty', 'duration','offer_type', 'reward','channels_web', 'channels_email', 'channels_mobile', 'channels_social']].copy()\n",
    "Y= offer_p_f_2[['viewandcomplete']].copy()\n",
    "Y = np.array(Y)\n",
    "Y = Y.reshape(len(Y))\n",
    "X.isnull().sum()"
   ]
  },
  {
   "cell_type": "code",
   "execution_count": 50,
   "metadata": {
    "scrolled": true
   },
   "outputs": [
    {
     "name": "stdout",
     "output_type": "stream",
     "text": [
      "offer_type\n",
      "gender\n"
     ]
    },
    {
     "data": {
      "text/html": [
       "<div>\n",
       "<style scoped>\n",
       "    .dataframe tbody tr th:only-of-type {\n",
       "        vertical-align: middle;\n",
       "    }\n",
       "\n",
       "    .dataframe tbody tr th {\n",
       "        vertical-align: top;\n",
       "    }\n",
       "\n",
       "    .dataframe thead th {\n",
       "        text-align: right;\n",
       "    }\n",
       "</style>\n",
       "<table border=\"1\" class=\"dataframe\">\n",
       "  <thead>\n",
       "    <tr style=\"text-align: right;\">\n",
       "      <th></th>\n",
       "      <th>age</th>\n",
       "      <th>income</th>\n",
       "      <th>memberdays</th>\n",
       "      <th>difficulty</th>\n",
       "      <th>duration</th>\n",
       "      <th>reward</th>\n",
       "      <th>channels_web</th>\n",
       "      <th>channels_email</th>\n",
       "      <th>channels_mobile</th>\n",
       "      <th>channels_social</th>\n",
       "      <th>offer_type_discount</th>\n",
       "      <th>gender_M</th>\n",
       "      <th>gender_O</th>\n",
       "    </tr>\n",
       "  </thead>\n",
       "  <tbody>\n",
       "    <tr>\n",
       "      <th>0</th>\n",
       "      <td>75</td>\n",
       "      <td>100000.0</td>\n",
       "      <td>678</td>\n",
       "      <td>5</td>\n",
       "      <td>7</td>\n",
       "      <td>5</td>\n",
       "      <td>1</td>\n",
       "      <td>1</td>\n",
       "      <td>1</td>\n",
       "      <td>0</td>\n",
       "      <td>0</td>\n",
       "      <td>0</td>\n",
       "      <td>0</td>\n",
       "    </tr>\n",
       "    <tr>\n",
       "      <th>1</th>\n",
       "      <td>68</td>\n",
       "      <td>70000.0</td>\n",
       "      <td>326</td>\n",
       "      <td>5</td>\n",
       "      <td>7</td>\n",
       "      <td>5</td>\n",
       "      <td>1</td>\n",
       "      <td>1</td>\n",
       "      <td>1</td>\n",
       "      <td>0</td>\n",
       "      <td>0</td>\n",
       "      <td>1</td>\n",
       "      <td>0</td>\n",
       "    </tr>\n",
       "    <tr>\n",
       "      <th>2</th>\n",
       "      <td>65</td>\n",
       "      <td>53000.0</td>\n",
       "      <td>402</td>\n",
       "      <td>5</td>\n",
       "      <td>7</td>\n",
       "      <td>5</td>\n",
       "      <td>1</td>\n",
       "      <td>1</td>\n",
       "      <td>1</td>\n",
       "      <td>0</td>\n",
       "      <td>0</td>\n",
       "      <td>1</td>\n",
       "      <td>0</td>\n",
       "    </tr>\n",
       "    <tr>\n",
       "      <th>3</th>\n",
       "      <td>65</td>\n",
       "      <td>53000.0</td>\n",
       "      <td>402</td>\n",
       "      <td>5</td>\n",
       "      <td>7</td>\n",
       "      <td>5</td>\n",
       "      <td>1</td>\n",
       "      <td>1</td>\n",
       "      <td>1</td>\n",
       "      <td>0</td>\n",
       "      <td>0</td>\n",
       "      <td>1</td>\n",
       "      <td>0</td>\n",
       "    </tr>\n",
       "    <tr>\n",
       "      <th>4</th>\n",
       "      <td>65</td>\n",
       "      <td>53000.0</td>\n",
       "      <td>402</td>\n",
       "      <td>5</td>\n",
       "      <td>7</td>\n",
       "      <td>5</td>\n",
       "      <td>1</td>\n",
       "      <td>1</td>\n",
       "      <td>1</td>\n",
       "      <td>0</td>\n",
       "      <td>0</td>\n",
       "      <td>1</td>\n",
       "      <td>0</td>\n",
       "    </tr>\n",
       "  </tbody>\n",
       "</table>\n",
       "</div>"
      ],
      "text/plain": [
       "   age    income  memberdays  difficulty  duration  reward  channels_web  \\\n",
       "0   75  100000.0         678           5         7       5             1   \n",
       "1   68   70000.0         326           5         7       5             1   \n",
       "2   65   53000.0         402           5         7       5             1   \n",
       "3   65   53000.0         402           5         7       5             1   \n",
       "4   65   53000.0         402           5         7       5             1   \n",
       "\n",
       "   channels_email  channels_mobile  channels_social  offer_type_discount  \\\n",
       "0               1                1                0                    0   \n",
       "1               1                1                0                    0   \n",
       "2               1                1                0                    0   \n",
       "3               1                1                0                    0   \n",
       "4               1                1                0                    0   \n",
       "\n",
       "   gender_M  gender_O  \n",
       "0         0         0  \n",
       "1         1         0  \n",
       "2         1         0  \n",
       "3         1         0  \n",
       "4         1         0  "
      ]
     },
     "execution_count": 50,
     "metadata": {},
     "output_type": "execute_result"
    }
   ],
   "source": [
    "var_cat = ['offer_type','gender']\n",
    "for c in var_cat:\n",
    "    print (c)\n",
    "    X = pd.concat([X.drop(c,axis=1),pd.get_dummies(X[c],prefix=c,prefix_sep='_',drop_first=True)],axis=1)\n",
    "X.head()"
   ]
  },
  {
   "cell_type": "code",
   "execution_count": 51,
   "metadata": {},
   "outputs": [
    {
     "name": "stdout",
     "output_type": "stream",
     "text": [
      "The nrows of dataset is 68057,the nrows of completed is 32772,the ratio of completed is 0.48153753471354893\n"
     ]
    }
   ],
   "source": [
    "#we can use accuracy to evaluate the performance because the dataset is a balanced dataset\n",
    "print ('The nrows of dataset is {},the nrows of completed is {},the ratio of completed is {}'.format(X.shape[0],Y.sum(),Y.sum()/X.shape[0]))"
   ]
  },
  {
   "cell_type": "code",
   "execution_count": 52,
   "metadata": {},
   "outputs": [],
   "source": [
    "from sklearn.model_selection import train_test_split\n",
    "from sklearn.ensemble import RandomForestClassifier\n",
    "from sklearn.tree import DecisionTreeClassifier\n",
    "from sklearn.metrics import accuracy_score,f1_score,precision_score,recall_score"
   ]
  },
  {
   "cell_type": "code",
   "execution_count": 53,
   "metadata": {},
   "outputs": [],
   "source": [
    "X_train,X_test,y_train,y_test = train_test_split(X,Y,test_size=0.3,random_state=24)"
   ]
  },
  {
   "cell_type": "code",
   "execution_count": 54,
   "metadata": {},
   "outputs": [
    {
     "data": {
      "text/plain": [
       "DecisionTreeClassifier(class_weight=None, criterion='gini', max_depth=None,\n",
       "            max_features=None, max_leaf_nodes=None,\n",
       "            min_impurity_decrease=0.0, min_impurity_split=None,\n",
       "            min_samples_leaf=1, min_samples_split=2,\n",
       "            min_weight_fraction_leaf=0.0, presort=False, random_state=24,\n",
       "            splitter='best')"
      ]
     },
     "execution_count": 54,
     "metadata": {},
     "output_type": "execute_result"
    }
   ],
   "source": [
    "clf = DecisionTreeClassifier(random_state=24)\n",
    "clf.fit(X_train,y_train)"
   ]
  },
  {
   "cell_type": "code",
   "execution_count": 55,
   "metadata": {},
   "outputs": [
    {
     "name": "stdout",
     "output_type": "stream",
     "text": [
      "the accuracy on testset is 0.6594181604466647 \n",
      "the presicion score is 0.6457960644007156,the recall score is 0.6571601941747572, the f1_score is0.6514285714285714\n"
     ]
    }
   ],
   "source": [
    "y_pred = clf.predict(X_test)\n",
    "print ('the accuracy on testset is {} '.format(accuracy_score(y_test,y_pred)))\n",
    "print ('the presicion score is {},the recall score is {}, the f1_score is{}'.format(precision_score(y_test,y_pred),recall_score(y_test,y_pred),f1_score(y_test,y_pred)))"
   ]
  },
  {
   "cell_type": "markdown",
   "metadata": {},
   "source": [
    "We built the classification model that have accuracy =65.9% on the test set.The procision we predict the user who would view and complete the offer is 64.6% and the ratio of users who would view and completed could be identified by the model is 65.7%. "
   ]
  },
  {
   "cell_type": "code",
   "execution_count": 56,
   "metadata": {},
   "outputs": [
    {
     "name": "stdout",
     "output_type": "stream",
     "text": [
      "The Best extimator is RandomForestClassifier(bootstrap=True, class_weight=None, criterion='gini',\n",
      "            max_depth=None, max_features='auto', max_leaf_nodes=None,\n",
      "            min_impurity_decrease=0.0, min_impurity_split=None,\n",
      "            min_samples_leaf=1, min_samples_split=2,\n",
      "            min_weight_fraction_leaf=0.0, n_estimators=80, n_jobs=1,\n",
      "            oob_score=False, random_state=24, verbose=0, warm_start=False)\n"
     ]
    }
   ],
   "source": [
    "#Tuning parameters with GridSearchCV\n",
    "from sklearn.model_selection import GridSearchCV\n",
    "clf_rf = RandomForestClassifier(random_state=24)\n",
    "parameters = {'n_estimators':[20,50,80]}\n",
    "clf_g = GridSearchCV(clf_rf,parameters,cv=5)\n",
    "clf_g.fit(X_train,y_train)\n",
    "print ('The Best extimator is {}'.format(clf_g.best_estimator_))\n",
    "y_pred = clf_g.predict(X_test)"
   ]
  },
  {
   "cell_type": "code",
   "execution_count": 57,
   "metadata": {},
   "outputs": [
    {
     "name": "stdout",
     "output_type": "stream",
     "text": [
      "The accuracy of RandomForest clssifier on testset is 0.6898814771280243 \n",
      "The presicion score is 0.673734610123119,the recall score is 0.6973098705501618, the f1_score is0.6853195507404831\n"
     ]
    }
   ],
   "source": [
    "print ('The accuracy of RandomForest clssifier on testset is {} '.format(accuracy_score(y_test,y_pred)))\n",
    "print ('The presicion score is {},the recall score is {}, the f1_score is{}'.format(precision_score(y_test,y_pred),recall_score(y_test,y_pred),f1_score(y_test,y_pred)))"
   ]
  },
  {
   "cell_type": "markdown",
   "metadata": {},
   "source": [
    "We have accuracy of 68.99% of predict correctly on whether a user would complete the offer. For a predict user who would complete the offer, we have 67.37% confident he would truly complete the offer. And for users who would actually complete the offers, there are 69.73% of the users he would be identified by the model."
   ]
  },
  {
   "cell_type": "markdown",
   "metadata": {},
   "source": [
    "### <a class=\"anchor\" id=\"Recommendation\">Part III: User-User Based Collaborative Filtering Recommendation</a>\n",
    "\n",
    "This section is to built a recommendation system with user-user based collaborative filtering algorithm.The idea is to find the most similar old users for the new user and recommend the old user's offer which is cumulated largest rewards to the new user. We removed the offers which did not influence on the users from the recommendation. The recommendation system also works for old users."
   ]
  },
  {
   "cell_type": "code",
   "execution_count": 58,
   "metadata": {},
   "outputs": [
    {
     "data": {
      "text/html": [
       "<div>\n",
       "<style scoped>\n",
       "    .dataframe tbody tr th:only-of-type {\n",
       "        vertical-align: middle;\n",
       "    }\n",
       "\n",
       "    .dataframe tbody tr th {\n",
       "        vertical-align: top;\n",
       "    }\n",
       "\n",
       "    .dataframe thead th {\n",
       "        text-align: right;\n",
       "    }\n",
       "</style>\n",
       "<table border=\"1\" class=\"dataframe\">\n",
       "  <thead>\n",
       "    <tr style=\"text-align: right;\">\n",
       "      <th></th>\n",
       "      <th>index</th>\n",
       "      <th>age</th>\n",
       "      <th>gender</th>\n",
       "      <th>id</th>\n",
       "      <th>income</th>\n",
       "      <th>memberdays</th>\n",
       "    </tr>\n",
       "  </thead>\n",
       "  <tbody>\n",
       "    <tr>\n",
       "      <th>1</th>\n",
       "      <td>1</td>\n",
       "      <td>55</td>\n",
       "      <td>F</td>\n",
       "      <td>0610b486422d4921ae7d2bf64640c50b</td>\n",
       "      <td>112000.0</td>\n",
       "      <td>611</td>\n",
       "    </tr>\n",
       "    <tr>\n",
       "      <th>3</th>\n",
       "      <td>3</td>\n",
       "      <td>75</td>\n",
       "      <td>F</td>\n",
       "      <td>78afa995795e4d85b5d9ceeca43f5fef</td>\n",
       "      <td>100000.0</td>\n",
       "      <td>678</td>\n",
       "    </tr>\n",
       "    <tr>\n",
       "      <th>5</th>\n",
       "      <td>5</td>\n",
       "      <td>68</td>\n",
       "      <td>M</td>\n",
       "      <td>e2127556f4f64592b11af22de27a7932</td>\n",
       "      <td>70000.0</td>\n",
       "      <td>326</td>\n",
       "    </tr>\n",
       "    <tr>\n",
       "      <th>8</th>\n",
       "      <td>8</td>\n",
       "      <td>65</td>\n",
       "      <td>M</td>\n",
       "      <td>389bc3fa690240e798340f5a15918d5c</td>\n",
       "      <td>53000.0</td>\n",
       "      <td>402</td>\n",
       "    </tr>\n",
       "    <tr>\n",
       "      <th>12</th>\n",
       "      <td>12</td>\n",
       "      <td>58</td>\n",
       "      <td>M</td>\n",
       "      <td>2eeac8d8feae4a8cad5a6af0499a211d</td>\n",
       "      <td>51000.0</td>\n",
       "      <td>492</td>\n",
       "    </tr>\n",
       "  </tbody>\n",
       "</table>\n",
       "</div>"
      ],
      "text/plain": [
       "    index  age gender                                id    income  memberdays\n",
       "1       1   55      F  0610b486422d4921ae7d2bf64640c50b  112000.0         611\n",
       "3       3   75      F  78afa995795e4d85b5d9ceeca43f5fef  100000.0         678\n",
       "5       5   68      M  e2127556f4f64592b11af22de27a7932   70000.0         326\n",
       "8       8   65      M  389bc3fa690240e798340f5a15918d5c   53000.0         402\n",
       "12     12   58      M  2eeac8d8feae4a8cad5a6af0499a211d   51000.0         492"
      ]
     },
     "execution_count": 58,
     "metadata": {},
     "output_type": "execute_result"
    }
   ],
   "source": [
    "profile.head()"
   ]
  },
  {
   "cell_type": "code",
   "execution_count": 59,
   "metadata": {},
   "outputs": [
    {
     "data": {
      "text/html": [
       "<div>\n",
       "<style scoped>\n",
       "    .dataframe tbody tr th:only-of-type {\n",
       "        vertical-align: middle;\n",
       "    }\n",
       "\n",
       "    .dataframe tbody tr th {\n",
       "        vertical-align: top;\n",
       "    }\n",
       "\n",
       "    .dataframe thead th {\n",
       "        text-align: right;\n",
       "    }\n",
       "</style>\n",
       "<table border=\"1\" class=\"dataframe\">\n",
       "  <thead>\n",
       "    <tr style=\"text-align: right;\">\n",
       "      <th></th>\n",
       "      <th>age</th>\n",
       "      <th>income</th>\n",
       "      <th>memberdays</th>\n",
       "      <th>gender_F</th>\n",
       "      <th>gender_M</th>\n",
       "      <th>gender_O</th>\n",
       "    </tr>\n",
       "    <tr>\n",
       "      <th>id</th>\n",
       "      <th></th>\n",
       "      <th></th>\n",
       "      <th></th>\n",
       "      <th></th>\n",
       "      <th></th>\n",
       "      <th></th>\n",
       "    </tr>\n",
       "  </thead>\n",
       "  <tbody>\n",
       "    <tr>\n",
       "      <th>0610b486422d4921ae7d2bf64640c50b</th>\n",
       "      <td>55</td>\n",
       "      <td>112000.0</td>\n",
       "      <td>611</td>\n",
       "      <td>1</td>\n",
       "      <td>0</td>\n",
       "      <td>0</td>\n",
       "    </tr>\n",
       "    <tr>\n",
       "      <th>78afa995795e4d85b5d9ceeca43f5fef</th>\n",
       "      <td>75</td>\n",
       "      <td>100000.0</td>\n",
       "      <td>678</td>\n",
       "      <td>1</td>\n",
       "      <td>0</td>\n",
       "      <td>0</td>\n",
       "    </tr>\n",
       "    <tr>\n",
       "      <th>e2127556f4f64592b11af22de27a7932</th>\n",
       "      <td>68</td>\n",
       "      <td>70000.0</td>\n",
       "      <td>326</td>\n",
       "      <td>0</td>\n",
       "      <td>1</td>\n",
       "      <td>0</td>\n",
       "    </tr>\n",
       "    <tr>\n",
       "      <th>389bc3fa690240e798340f5a15918d5c</th>\n",
       "      <td>65</td>\n",
       "      <td>53000.0</td>\n",
       "      <td>402</td>\n",
       "      <td>0</td>\n",
       "      <td>1</td>\n",
       "      <td>0</td>\n",
       "    </tr>\n",
       "    <tr>\n",
       "      <th>2eeac8d8feae4a8cad5a6af0499a211d</th>\n",
       "      <td>58</td>\n",
       "      <td>51000.0</td>\n",
       "      <td>492</td>\n",
       "      <td>0</td>\n",
       "      <td>1</td>\n",
       "      <td>0</td>\n",
       "    </tr>\n",
       "  </tbody>\n",
       "</table>\n",
       "</div>"
      ],
      "text/plain": [
       "                                  age    income  memberdays  gender_F  \\\n",
       "id                                                                      \n",
       "0610b486422d4921ae7d2bf64640c50b   55  112000.0         611         1   \n",
       "78afa995795e4d85b5d9ceeca43f5fef   75  100000.0         678         1   \n",
       "e2127556f4f64592b11af22de27a7932   68   70000.0         326         0   \n",
       "389bc3fa690240e798340f5a15918d5c   65   53000.0         402         0   \n",
       "2eeac8d8feae4a8cad5a6af0499a211d   58   51000.0         492         0   \n",
       "\n",
       "                                  gender_M  gender_O  \n",
       "id                                                    \n",
       "0610b486422d4921ae7d2bf64640c50b         0         0  \n",
       "78afa995795e4d85b5d9ceeca43f5fef         0         0  \n",
       "e2127556f4f64592b11af22de27a7932         1         0  \n",
       "389bc3fa690240e798340f5a15918d5c         1         0  \n",
       "2eeac8d8feae4a8cad5a6af0499a211d         1         0  "
      ]
     },
     "execution_count": 59,
     "metadata": {},
     "output_type": "execute_result"
    }
   ],
   "source": [
    "#Transform columns in the profile to numeric, and set index to id\n",
    "user_df = profile[['age','gender','id','income','memberdays']].copy()\n",
    "user_df.reset_index(inplace=True)\n",
    "user_df.drop('index',axis=1,inplace=True)\n",
    "user_df = pd.concat([user_df.drop(['gender'],axis=1),pd.get_dummies(user_df['gender'],prefix_sep='_',prefix='gender',drop_first=False)],axis=1)\n",
    "user_df = user_df.set_index(['id'])\n",
    "user_df.head()"
   ]
  },
  {
   "cell_type": "code",
   "execution_count": 60,
   "metadata": {},
   "outputs": [
    {
     "data": {
      "text/plain": [
       "array([[0.44578313, 0.91111111, 0.20625343, 1.        , 0.        ,\n",
       "        0.        ],\n",
       "       [0.68674699, 0.77777778, 0.24300603, 1.        , 0.        ,\n",
       "        0.        ],\n",
       "       [0.60240964, 0.44444444, 0.04991772, 0.        , 1.        ,\n",
       "        0.        ],\n",
       "       ...,\n",
       "       [0.37349398, 0.47777778, 0.29950631, 0.        , 1.        ,\n",
       "        0.        ],\n",
       "       [0.78313253, 0.22222222, 0.47778387, 1.        , 0.        ,\n",
       "        0.        ],\n",
       "       [0.53012048, 0.57777778, 0.2024136 , 1.        , 0.        ,\n",
       "        0.        ]])"
      ]
     },
     "execution_count": 60,
     "metadata": {},
     "output_type": "execute_result"
    }
   ],
   "source": [
    "#Minmaxscaler transformation to the profile\n",
    "from sklearn.preprocessing import MinMaxScaler\n",
    "scaler = MinMaxScaler()\n",
    "scaler.fit(user_df)\n",
    "user_sc = scaler.transform(user_df)\n",
    "user_sc"
   ]
  },
  {
   "cell_type": "code",
   "execution_count": 61,
   "metadata": {},
   "outputs": [
    {
     "data": {
      "text/html": [
       "<div>\n",
       "<style scoped>\n",
       "    .dataframe tbody tr th:only-of-type {\n",
       "        vertical-align: middle;\n",
       "    }\n",
       "\n",
       "    .dataframe tbody tr th {\n",
       "        vertical-align: top;\n",
       "    }\n",
       "\n",
       "    .dataframe thead th {\n",
       "        text-align: right;\n",
       "    }\n",
       "</style>\n",
       "<table border=\"1\" class=\"dataframe\">\n",
       "  <thead>\n",
       "    <tr style=\"text-align: right;\">\n",
       "      <th></th>\n",
       "      <th>age</th>\n",
       "      <th>income</th>\n",
       "      <th>memberdays</th>\n",
       "      <th>gender_F</th>\n",
       "      <th>gender_M</th>\n",
       "      <th>gender_O</th>\n",
       "    </tr>\n",
       "    <tr>\n",
       "      <th>id</th>\n",
       "      <th></th>\n",
       "      <th></th>\n",
       "      <th></th>\n",
       "      <th></th>\n",
       "      <th></th>\n",
       "      <th></th>\n",
       "    </tr>\n",
       "  </thead>\n",
       "  <tbody>\n",
       "    <tr>\n",
       "      <th>0610b486422d4921ae7d2bf64640c50b</th>\n",
       "      <td>0.445783</td>\n",
       "      <td>0.911111</td>\n",
       "      <td>0.206253</td>\n",
       "      <td>1.0</td>\n",
       "      <td>0.0</td>\n",
       "      <td>0.0</td>\n",
       "    </tr>\n",
       "    <tr>\n",
       "      <th>78afa995795e4d85b5d9ceeca43f5fef</th>\n",
       "      <td>0.686747</td>\n",
       "      <td>0.777778</td>\n",
       "      <td>0.243006</td>\n",
       "      <td>1.0</td>\n",
       "      <td>0.0</td>\n",
       "      <td>0.0</td>\n",
       "    </tr>\n",
       "    <tr>\n",
       "      <th>e2127556f4f64592b11af22de27a7932</th>\n",
       "      <td>0.602410</td>\n",
       "      <td>0.444444</td>\n",
       "      <td>0.049918</td>\n",
       "      <td>0.0</td>\n",
       "      <td>1.0</td>\n",
       "      <td>0.0</td>\n",
       "    </tr>\n",
       "    <tr>\n",
       "      <th>389bc3fa690240e798340f5a15918d5c</th>\n",
       "      <td>0.566265</td>\n",
       "      <td>0.255556</td>\n",
       "      <td>0.091607</td>\n",
       "      <td>0.0</td>\n",
       "      <td>1.0</td>\n",
       "      <td>0.0</td>\n",
       "    </tr>\n",
       "    <tr>\n",
       "      <th>2eeac8d8feae4a8cad5a6af0499a211d</th>\n",
       "      <td>0.481928</td>\n",
       "      <td>0.233333</td>\n",
       "      <td>0.140976</td>\n",
       "      <td>0.0</td>\n",
       "      <td>1.0</td>\n",
       "      <td>0.0</td>\n",
       "    </tr>\n",
       "  </tbody>\n",
       "</table>\n",
       "</div>"
      ],
      "text/plain": [
       "                                       age    income  memberdays  gender_F  \\\n",
       "id                                                                           \n",
       "0610b486422d4921ae7d2bf64640c50b  0.445783  0.911111    0.206253       1.0   \n",
       "78afa995795e4d85b5d9ceeca43f5fef  0.686747  0.777778    0.243006       1.0   \n",
       "e2127556f4f64592b11af22de27a7932  0.602410  0.444444    0.049918       0.0   \n",
       "389bc3fa690240e798340f5a15918d5c  0.566265  0.255556    0.091607       0.0   \n",
       "2eeac8d8feae4a8cad5a6af0499a211d  0.481928  0.233333    0.140976       0.0   \n",
       "\n",
       "                                  gender_M  gender_O  \n",
       "id                                                    \n",
       "0610b486422d4921ae7d2bf64640c50b       0.0       0.0  \n",
       "78afa995795e4d85b5d9ceeca43f5fef       0.0       0.0  \n",
       "e2127556f4f64592b11af22de27a7932       1.0       0.0  \n",
       "389bc3fa690240e798340f5a15918d5c       1.0       0.0  \n",
       "2eeac8d8feae4a8cad5a6af0499a211d       1.0       0.0  "
      ]
     },
     "execution_count": 61,
     "metadata": {},
     "output_type": "execute_result"
    }
   ],
   "source": [
    "user_df_sc = pd.DataFrame(user_sc,index=user_df.index,columns=['age','income','memberdays','gender_F','gender_M','gender_O'])\n",
    "user_df_sc.head()"
   ]
  },
  {
   "cell_type": "code",
   "execution_count": 62,
   "metadata": {},
   "outputs": [],
   "source": [
    "def compute_euclidean_dist(user1, user2):\n",
    "    '''\n",
    "    INPUT\n",
    "    user1 - int user_id\n",
    "    user2 - int user_id\n",
    "    OUTPUT\n",
    "    the euclidean distance between user1 and user2\n",
    "    '''\n",
    "    \n",
    "    dist = np.linalg.norm(user_df_sc.loc[user1] - user_df_sc.loc[user2])\n",
    "    \n",
    "    return dist #return the euclidean distance"
   ]
  },
  {
   "cell_type": "code",
   "execution_count": 63,
   "metadata": {},
   "outputs": [],
   "source": [
    "def find_similar_users(user,n_user=5,user_df=user_df):\n",
    "    '''\n",
    "    INPUT\n",
    "    user - for whom we find his similar users\n",
    "    n_user - the number of similar users for the input user\n",
    "    OUTPUT\n",
    "    the most n_user similar users to the user we found for\n",
    "    '''\n",
    "    user_dist=[]\n",
    "    topn_similar_user=[]\n",
    "    user_df1=user_df.copy()\n",
    "    for u in user_df.index:\n",
    "        \n",
    "        user_dist.append(compute_euclidean_dist(u,user))\n",
    "    user_df1[user]=user_dist    \n",
    "    topn_similar_user.extend(user_df1.sort_values(by=[user])[0:n_user].index)\n",
    "    topn_similar_user.remove(user)\n",
    "    #print (topn_similar_user)\n",
    "    return topn_similar_user\n",
    "    "
   ]
  },
  {
   "cell_type": "code",
   "execution_count": 64,
   "metadata": {},
   "outputs": [],
   "source": [
    "#Merge offer completed dataset to portfolio\n",
    "reward_df=transcript_offercom.merge(portfolio,how='inner',left_on='offer_id_com',right_on='id')\n",
    "reward_df.drop(['id'],axis=1,inplace=True)"
   ]
  },
  {
   "cell_type": "code",
   "execution_count": 65,
   "metadata": {},
   "outputs": [
    {
     "data": {
      "text/html": [
       "<div>\n",
       "<style scoped>\n",
       "    .dataframe tbody tr th:only-of-type {\n",
       "        vertical-align: middle;\n",
       "    }\n",
       "\n",
       "    .dataframe tbody tr th {\n",
       "        vertical-align: top;\n",
       "    }\n",
       "\n",
       "    .dataframe thead th {\n",
       "        text-align: right;\n",
       "    }\n",
       "</style>\n",
       "<table border=\"1\" class=\"dataframe\">\n",
       "  <thead>\n",
       "    <tr style=\"text-align: right;\">\n",
       "      <th></th>\n",
       "      <th>difficulty</th>\n",
       "      <th>duration</th>\n",
       "      <th>id</th>\n",
       "      <th>offer_type</th>\n",
       "      <th>reward</th>\n",
       "      <th>channels_web</th>\n",
       "      <th>channels_email</th>\n",
       "      <th>channels_mobile</th>\n",
       "      <th>channels_social</th>\n",
       "    </tr>\n",
       "  </thead>\n",
       "  <tbody>\n",
       "    <tr>\n",
       "      <th>0</th>\n",
       "      <td>10</td>\n",
       "      <td>7</td>\n",
       "      <td>ae264e3637204a6fb9bb56bc8210ddfd</td>\n",
       "      <td>bogo</td>\n",
       "      <td>10</td>\n",
       "      <td>0</td>\n",
       "      <td>1</td>\n",
       "      <td>1</td>\n",
       "      <td>1</td>\n",
       "    </tr>\n",
       "    <tr>\n",
       "      <th>1</th>\n",
       "      <td>10</td>\n",
       "      <td>5</td>\n",
       "      <td>4d5c57ea9a6940dd891ad53e9dbe8da0</td>\n",
       "      <td>bogo</td>\n",
       "      <td>10</td>\n",
       "      <td>1</td>\n",
       "      <td>1</td>\n",
       "      <td>1</td>\n",
       "      <td>1</td>\n",
       "    </tr>\n",
       "    <tr>\n",
       "      <th>2</th>\n",
       "      <td>0</td>\n",
       "      <td>4</td>\n",
       "      <td>3f207df678b143eea3cee63160fa8bed</td>\n",
       "      <td>informational</td>\n",
       "      <td>0</td>\n",
       "      <td>1</td>\n",
       "      <td>1</td>\n",
       "      <td>1</td>\n",
       "      <td>0</td>\n",
       "    </tr>\n",
       "    <tr>\n",
       "      <th>3</th>\n",
       "      <td>5</td>\n",
       "      <td>7</td>\n",
       "      <td>9b98b8c7a33c4b65b9aebfe6a799e6d9</td>\n",
       "      <td>bogo</td>\n",
       "      <td>5</td>\n",
       "      <td>1</td>\n",
       "      <td>1</td>\n",
       "      <td>1</td>\n",
       "      <td>0</td>\n",
       "    </tr>\n",
       "    <tr>\n",
       "      <th>4</th>\n",
       "      <td>20</td>\n",
       "      <td>10</td>\n",
       "      <td>0b1e1539f2cc45b7b9fa7c272da2e1d7</td>\n",
       "      <td>discount</td>\n",
       "      <td>5</td>\n",
       "      <td>1</td>\n",
       "      <td>1</td>\n",
       "      <td>0</td>\n",
       "      <td>0</td>\n",
       "    </tr>\n",
       "    <tr>\n",
       "      <th>5</th>\n",
       "      <td>7</td>\n",
       "      <td>7</td>\n",
       "      <td>2298d6c36e964ae4a3e7e9706d1fb8c2</td>\n",
       "      <td>discount</td>\n",
       "      <td>3</td>\n",
       "      <td>1</td>\n",
       "      <td>1</td>\n",
       "      <td>1</td>\n",
       "      <td>1</td>\n",
       "    </tr>\n",
       "    <tr>\n",
       "      <th>6</th>\n",
       "      <td>10</td>\n",
       "      <td>10</td>\n",
       "      <td>fafdcd668e3743c1bb461111dcafc2a4</td>\n",
       "      <td>discount</td>\n",
       "      <td>2</td>\n",
       "      <td>1</td>\n",
       "      <td>1</td>\n",
       "      <td>1</td>\n",
       "      <td>1</td>\n",
       "    </tr>\n",
       "    <tr>\n",
       "      <th>7</th>\n",
       "      <td>0</td>\n",
       "      <td>3</td>\n",
       "      <td>5a8bc65990b245e5a138643cd4eb9837</td>\n",
       "      <td>informational</td>\n",
       "      <td>0</td>\n",
       "      <td>0</td>\n",
       "      <td>1</td>\n",
       "      <td>1</td>\n",
       "      <td>1</td>\n",
       "    </tr>\n",
       "    <tr>\n",
       "      <th>8</th>\n",
       "      <td>5</td>\n",
       "      <td>5</td>\n",
       "      <td>f19421c1d4aa40978ebb69ca19b0e20d</td>\n",
       "      <td>bogo</td>\n",
       "      <td>5</td>\n",
       "      <td>1</td>\n",
       "      <td>1</td>\n",
       "      <td>1</td>\n",
       "      <td>1</td>\n",
       "    </tr>\n",
       "    <tr>\n",
       "      <th>9</th>\n",
       "      <td>10</td>\n",
       "      <td>7</td>\n",
       "      <td>2906b810c7d4411798c6938adc9daaa5</td>\n",
       "      <td>discount</td>\n",
       "      <td>2</td>\n",
       "      <td>1</td>\n",
       "      <td>1</td>\n",
       "      <td>1</td>\n",
       "      <td>0</td>\n",
       "    </tr>\n",
       "  </tbody>\n",
       "</table>\n",
       "</div>"
      ],
      "text/plain": [
       "   difficulty  duration                                id     offer_type  \\\n",
       "0          10         7  ae264e3637204a6fb9bb56bc8210ddfd           bogo   \n",
       "1          10         5  4d5c57ea9a6940dd891ad53e9dbe8da0           bogo   \n",
       "2           0         4  3f207df678b143eea3cee63160fa8bed  informational   \n",
       "3           5         7  9b98b8c7a33c4b65b9aebfe6a799e6d9           bogo   \n",
       "4          20        10  0b1e1539f2cc45b7b9fa7c272da2e1d7       discount   \n",
       "5           7         7  2298d6c36e964ae4a3e7e9706d1fb8c2       discount   \n",
       "6          10        10  fafdcd668e3743c1bb461111dcafc2a4       discount   \n",
       "7           0         3  5a8bc65990b245e5a138643cd4eb9837  informational   \n",
       "8           5         5  f19421c1d4aa40978ebb69ca19b0e20d           bogo   \n",
       "9          10         7  2906b810c7d4411798c6938adc9daaa5       discount   \n",
       "\n",
       "   reward  channels_web  channels_email  channels_mobile  channels_social  \n",
       "0      10             0               1                1                1  \n",
       "1      10             1               1                1                1  \n",
       "2       0             1               1                1                0  \n",
       "3       5             1               1                1                0  \n",
       "4       5             1               1                0                0  \n",
       "5       3             1               1                1                1  \n",
       "6       2             1               1                1                1  \n",
       "7       0             0               1                1                1  \n",
       "8       5             1               1                1                1  \n",
       "9       2             1               1                1                0  "
      ]
     },
     "execution_count": 65,
     "metadata": {},
     "output_type": "execute_result"
    }
   ],
   "source": [
    "portfolio"
   ]
  },
  {
   "cell_type": "code",
   "execution_count": 66,
   "metadata": {},
   "outputs": [
    {
     "data": {
      "text/html": [
       "<div>\n",
       "<style scoped>\n",
       "    .dataframe tbody tr th:only-of-type {\n",
       "        vertical-align: middle;\n",
       "    }\n",
       "\n",
       "    .dataframe tbody tr th {\n",
       "        vertical-align: top;\n",
       "    }\n",
       "\n",
       "    .dataframe thead th {\n",
       "        text-align: right;\n",
       "    }\n",
       "</style>\n",
       "<table border=\"1\" class=\"dataframe\">\n",
       "  <thead>\n",
       "    <tr style=\"text-align: right;\">\n",
       "      <th>offer_id_com</th>\n",
       "      <th>0b1e1539f2cc45b7b9fa7c272da2e1d7</th>\n",
       "      <th>2298d6c36e964ae4a3e7e9706d1fb8c2</th>\n",
       "      <th>2906b810c7d4411798c6938adc9daaa5</th>\n",
       "      <th>4d5c57ea9a6940dd891ad53e9dbe8da0</th>\n",
       "      <th>9b98b8c7a33c4b65b9aebfe6a799e6d9</th>\n",
       "      <th>ae264e3637204a6fb9bb56bc8210ddfd</th>\n",
       "      <th>f19421c1d4aa40978ebb69ca19b0e20d</th>\n",
       "      <th>fafdcd668e3743c1bb461111dcafc2a4</th>\n",
       "    </tr>\n",
       "    <tr>\n",
       "      <th>person_com</th>\n",
       "      <th></th>\n",
       "      <th></th>\n",
       "      <th></th>\n",
       "      <th></th>\n",
       "      <th></th>\n",
       "      <th></th>\n",
       "      <th></th>\n",
       "      <th></th>\n",
       "    </tr>\n",
       "  </thead>\n",
       "  <tbody>\n",
       "    <tr>\n",
       "      <th>fff29fb549084123bd046dbc5ceb4faa</th>\n",
       "      <td>NaN</td>\n",
       "      <td>NaN</td>\n",
       "      <td>NaN</td>\n",
       "      <td>20.0</td>\n",
       "      <td>NaN</td>\n",
       "      <td>20.0</td>\n",
       "      <td>5.0</td>\n",
       "      <td>2.0</td>\n",
       "    </tr>\n",
       "    <tr>\n",
       "      <th>fff3ba4757bd42088c044ca26d73817a</th>\n",
       "      <td>NaN</td>\n",
       "      <td>NaN</td>\n",
       "      <td>2.0</td>\n",
       "      <td>NaN</td>\n",
       "      <td>5.0</td>\n",
       "      <td>NaN</td>\n",
       "      <td>NaN</td>\n",
       "      <td>2.0</td>\n",
       "    </tr>\n",
       "    <tr>\n",
       "      <th>fff7576017104bcc8677a8d63322b5e1</th>\n",
       "      <td>NaN</td>\n",
       "      <td>NaN</td>\n",
       "      <td>NaN</td>\n",
       "      <td>NaN</td>\n",
       "      <td>5.0</td>\n",
       "      <td>NaN</td>\n",
       "      <td>NaN</td>\n",
       "      <td>4.0</td>\n",
       "    </tr>\n",
       "    <tr>\n",
       "      <th>fffad4f4828548d1b5583907f2e9906b</th>\n",
       "      <td>NaN</td>\n",
       "      <td>NaN</td>\n",
       "      <td>NaN</td>\n",
       "      <td>NaN</td>\n",
       "      <td>5.0</td>\n",
       "      <td>NaN</td>\n",
       "      <td>10.0</td>\n",
       "      <td>NaN</td>\n",
       "    </tr>\n",
       "    <tr>\n",
       "      <th>ffff82501cea40309d5fdd7edcca4a07</th>\n",
       "      <td>5.0</td>\n",
       "      <td>NaN</td>\n",
       "      <td>6.0</td>\n",
       "      <td>NaN</td>\n",
       "      <td>5.0</td>\n",
       "      <td>NaN</td>\n",
       "      <td>NaN</td>\n",
       "      <td>2.0</td>\n",
       "    </tr>\n",
       "  </tbody>\n",
       "</table>\n",
       "</div>"
      ],
      "text/plain": [
       "offer_id_com                      0b1e1539f2cc45b7b9fa7c272da2e1d7  \\\n",
       "person_com                                                           \n",
       "fff29fb549084123bd046dbc5ceb4faa                               NaN   \n",
       "fff3ba4757bd42088c044ca26d73817a                               NaN   \n",
       "fff7576017104bcc8677a8d63322b5e1                               NaN   \n",
       "fffad4f4828548d1b5583907f2e9906b                               NaN   \n",
       "ffff82501cea40309d5fdd7edcca4a07                               5.0   \n",
       "\n",
       "offer_id_com                      2298d6c36e964ae4a3e7e9706d1fb8c2  \\\n",
       "person_com                                                           \n",
       "fff29fb549084123bd046dbc5ceb4faa                               NaN   \n",
       "fff3ba4757bd42088c044ca26d73817a                               NaN   \n",
       "fff7576017104bcc8677a8d63322b5e1                               NaN   \n",
       "fffad4f4828548d1b5583907f2e9906b                               NaN   \n",
       "ffff82501cea40309d5fdd7edcca4a07                               NaN   \n",
       "\n",
       "offer_id_com                      2906b810c7d4411798c6938adc9daaa5  \\\n",
       "person_com                                                           \n",
       "fff29fb549084123bd046dbc5ceb4faa                               NaN   \n",
       "fff3ba4757bd42088c044ca26d73817a                               2.0   \n",
       "fff7576017104bcc8677a8d63322b5e1                               NaN   \n",
       "fffad4f4828548d1b5583907f2e9906b                               NaN   \n",
       "ffff82501cea40309d5fdd7edcca4a07                               6.0   \n",
       "\n",
       "offer_id_com                      4d5c57ea9a6940dd891ad53e9dbe8da0  \\\n",
       "person_com                                                           \n",
       "fff29fb549084123bd046dbc5ceb4faa                              20.0   \n",
       "fff3ba4757bd42088c044ca26d73817a                               NaN   \n",
       "fff7576017104bcc8677a8d63322b5e1                               NaN   \n",
       "fffad4f4828548d1b5583907f2e9906b                               NaN   \n",
       "ffff82501cea40309d5fdd7edcca4a07                               NaN   \n",
       "\n",
       "offer_id_com                      9b98b8c7a33c4b65b9aebfe6a799e6d9  \\\n",
       "person_com                                                           \n",
       "fff29fb549084123bd046dbc5ceb4faa                               NaN   \n",
       "fff3ba4757bd42088c044ca26d73817a                               5.0   \n",
       "fff7576017104bcc8677a8d63322b5e1                               5.0   \n",
       "fffad4f4828548d1b5583907f2e9906b                               5.0   \n",
       "ffff82501cea40309d5fdd7edcca4a07                               5.0   \n",
       "\n",
       "offer_id_com                      ae264e3637204a6fb9bb56bc8210ddfd  \\\n",
       "person_com                                                           \n",
       "fff29fb549084123bd046dbc5ceb4faa                              20.0   \n",
       "fff3ba4757bd42088c044ca26d73817a                               NaN   \n",
       "fff7576017104bcc8677a8d63322b5e1                               NaN   \n",
       "fffad4f4828548d1b5583907f2e9906b                               NaN   \n",
       "ffff82501cea40309d5fdd7edcca4a07                               NaN   \n",
       "\n",
       "offer_id_com                      f19421c1d4aa40978ebb69ca19b0e20d  \\\n",
       "person_com                                                           \n",
       "fff29fb549084123bd046dbc5ceb4faa                               5.0   \n",
       "fff3ba4757bd42088c044ca26d73817a                               NaN   \n",
       "fff7576017104bcc8677a8d63322b5e1                               NaN   \n",
       "fffad4f4828548d1b5583907f2e9906b                              10.0   \n",
       "ffff82501cea40309d5fdd7edcca4a07                               NaN   \n",
       "\n",
       "offer_id_com                      fafdcd668e3743c1bb461111dcafc2a4  \n",
       "person_com                                                          \n",
       "fff29fb549084123bd046dbc5ceb4faa                               2.0  \n",
       "fff3ba4757bd42088c044ca26d73817a                               2.0  \n",
       "fff7576017104bcc8677a8d63322b5e1                               4.0  \n",
       "fffad4f4828548d1b5583907f2e9906b                               NaN  \n",
       "ffff82501cea40309d5fdd7edcca4a07                               2.0  "
      ]
     },
     "execution_count": 66,
     "metadata": {},
     "output_type": "execute_result"
    }
   ],
   "source": [
    "reward_df.head()\n",
    "reward_df_g = reward_df.groupby(['person_com','offer_id_com']).reward_com.sum().unstack()\n",
    "reward_df_g.tail()"
   ]
  },
  {
   "cell_type": "code",
   "execution_count": null,
   "metadata": {},
   "outputs": [],
   "source": [
    "#reward_df_g.loc[(reward_df_g.index=='dbb778dbe0924f56a54aa714406bbcd9')]"
   ]
  },
  {
   "cell_type": "code",
   "execution_count": null,
   "metadata": {},
   "outputs": [],
   "source": [
    "#set(offer_p_f.loc[(offer_p_f.person_rec=='78afa995795e4d85b5d9ceeca43f5fef') & (offer_p_f.usercategory!='viewandcomplete')].offer_id_rec.unique())"
   ]
  },
  {
   "cell_type": "code",
   "execution_count": 67,
   "metadata": {},
   "outputs": [],
   "source": [
    "#We recommend the offer with maximun reward completed by the similar users,the number of recommendation could be 1 to n\n",
    "def recommendation(user,n_recom=5):\n",
    "    '''\n",
    "    INPUT\n",
    "    user - the user we make recommendation\n",
    "    n_recom - the maximun number we make recommendation for the user\n",
    "    OUTPUT\n",
    "    the offer recommendations for the input user\n",
    "    '''\n",
    "    similar_users=find_similar_users(user,n_user=5)\n",
    "    \n",
    "    offer_recom_set=set()\n",
    "    offer_list = reward_df_g.columns\n",
    "    for u in similar_users:\n",
    "        \n",
    "        reward_max = reward_df_g.loc[(reward_df_g.index==u)].max(axis=1).values[0]\n",
    "        print('The Similar user {}, has rewardmax {}'.format(u,reward_max))\n",
    "        user_offer = reward_df_g.loc[reward_df_g.index==u].copy()\n",
    "        user_offer = user_offer.T\n",
    "        user_offer.columns=['userid']\n",
    "        print ('The offer completed with the maximum reward \\n',user_offer.loc[user_offer.userid==reward_max].index.values)\n",
    "        \n",
    "        offer_recom_set.update(user_offer.loc[user_offer.userid==reward_max].index)\n",
    "        if len(offer_recom_set)>n_recom:\n",
    "            break\n",
    "    #We removed the offers which did not influence on the users from the recommendation. \n",
    "    remove_recom = set(offer_p_f.loc[(offer_p_f.person_rec==user) & (offer_p_f.usercategory!='viewandcomplete')].offer_id_rec.unique())\n",
    "    offer_recom_set=offer_recom_set-remove_recom\n",
    "    return offer_recom_set\n"
   ]
  },
  {
   "cell_type": "code",
   "execution_count": 68,
   "metadata": {},
   "outputs": [],
   "source": [
    "userid='78afa995795e4d85b5d9ceeca43f5fef'"
   ]
  },
  {
   "cell_type": "code",
   "execution_count": 69,
   "metadata": {
    "collapsed": true
   },
   "outputs": [
    {
     "name": "stdout",
     "output_type": "stream",
     "text": [
      "The Similar user eb5db7f1468847288b3caa2600d33eeb, has rewardmax 10.0\n",
      "The offer completed with the maximum reward \n",
      " ['9b98b8c7a33c4b65b9aebfe6a799e6d9']\n",
      "The Similar user dbb778dbe0924f56a54aa714406bbcd9, has rewardmax 10.0\n",
      "The offer completed with the maximum reward \n",
      " ['ae264e3637204a6fb9bb56bc8210ddfd' 'f19421c1d4aa40978ebb69ca19b0e20d']\n",
      "The Similar user d60929ada6ad44058b9be1359e7d2c25, has rewardmax 9.0\n",
      "The offer completed with the maximum reward \n",
      " ['2298d6c36e964ae4a3e7e9706d1fb8c2']\n",
      "The Similar user b4e842928968481f988f869561cc0257, has rewardmax 9.0\n",
      "The offer completed with the maximum reward \n",
      " ['2298d6c36e964ae4a3e7e9706d1fb8c2']\n"
     ]
    },
    {
     "data": {
      "text/plain": [
       "{'2298d6c36e964ae4a3e7e9706d1fb8c2',\n",
       " '9b98b8c7a33c4b65b9aebfe6a799e6d9',\n",
       " 'ae264e3637204a6fb9bb56bc8210ddfd'}"
      ]
     },
     "execution_count": 69,
     "metadata": {},
     "output_type": "execute_result"
    }
   ],
   "source": [
    "recommendation(userid,5)"
   ]
  },
  {
   "cell_type": "code",
   "execution_count": 70,
   "metadata": {},
   "outputs": [
    {
     "name": "stdout",
     "output_type": "stream",
     "text": [
      "The Similar user eb5db7f1468847288b3caa2600d33eeb, has rewardmax 10.0\n",
      "The offer completed with the maximum reward \n",
      " ['9b98b8c7a33c4b65b9aebfe6a799e6d9']\n",
      "The Similar user dbb778dbe0924f56a54aa714406bbcd9, has rewardmax 10.0\n",
      "The offer completed with the maximum reward \n",
      " ['ae264e3637204a6fb9bb56bc8210ddfd' 'f19421c1d4aa40978ebb69ca19b0e20d']\n",
      "The Similar user d60929ada6ad44058b9be1359e7d2c25, has rewardmax 9.0\n",
      "The offer completed with the maximum reward \n",
      " ['2298d6c36e964ae4a3e7e9706d1fb8c2']\n",
      "The Similar user b4e842928968481f988f869561cc0257, has rewardmax 9.0\n",
      "The offer completed with the maximum reward \n",
      " ['2298d6c36e964ae4a3e7e9706d1fb8c2']\n",
      "\n",
      " The offer recommendation for user 78afa995795e4d85b5d9ceeca43f5fef is \n",
      "    difficulty  duration                                id offer_type  reward  \\\n",
      "0          10         7  ae264e3637204a6fb9bb56bc8210ddfd       bogo      10   \n",
      "3           5         7  9b98b8c7a33c4b65b9aebfe6a799e6d9       bogo       5   \n",
      "5           7         7  2298d6c36e964ae4a3e7e9706d1fb8c2   discount       3   \n",
      "\n",
      "   channels_web  channels_email  channels_mobile  channels_social  \n",
      "0             0               1                1                1  \n",
      "3             1               1                1                0  \n",
      "5             1               1                1                1  \n"
     ]
    }
   ],
   "source": [
    "#print ('The offer recommendations for user  {} is \\n'.format(userid))\n",
    "print ('\\n The offer recommendation for user {} is \\n {}'.format(userid,portfolio.loc[portfolio.isin(recommendation(userid,5)).id==True]))\n"
   ]
  },
  {
   "cell_type": "code",
   "execution_count": null,
   "metadata": {},
   "outputs": [],
   "source": []
  }
 ],
 "metadata": {
  "kernelspec": {
   "display_name": "Python 3",
   "language": "python",
   "name": "python3"
  },
  "language_info": {
   "codemirror_mode": {
    "name": "ipython",
    "version": 3
   },
   "file_extension": ".py",
   "mimetype": "text/x-python",
   "name": "python",
   "nbconvert_exporter": "python",
   "pygments_lexer": "ipython3",
   "version": "3.6.4"
  }
 },
 "nbformat": 4,
 "nbformat_minor": 2
}
